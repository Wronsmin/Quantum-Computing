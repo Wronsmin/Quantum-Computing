{
 "cells": [
  {
   "cell_type": "markdown",
   "metadata": {},
   "source": [
    "## Codice usando i dati presenti nel  [paper(pag 18, paragrafo 4.2)](https://drive.google.com/file/d/1YBFS7FW81_pyuryAb5ISiofgLkT7Gp-P/view?usp=sharing)."
   ]
  },
  {
   "cell_type": "code",
   "execution_count": 1,
   "metadata": {},
   "outputs": [],
   "source": [
    "import networkx as nx\n",
    "import matplotlib.pyplot as plt\n",
    "from utils import *\n",
    "import numpy as np \n",
    "from dwave.system import DWaveSampler, EmbeddingComposite, DWaveCliqueSampler\n",
    "import dimod\n",
    "import dwave.inspector\n",
    "import pickle"
   ]
  },
  {
   "cell_type": "code",
   "execution_count": 561,
   "metadata": {},
   "outputs": [],
   "source": [
    "mu0 = 0.4\n",
    "var0 = 0.4\n",
    "\n",
    "x = np.array([-2.296, -0.216, -0.082, 0.231, 1.127, 1.164, 1.189, 1.236, 1.272, 1.373])"
   ]
  },
  {
   "cell_type": "code",
   "execution_count": 586,
   "metadata": {},
   "outputs": [],
   "source": [
    "x = np.random.normal(loc=1, scale=1, size=10)"
   ]
  },
  {
   "cell_type": "code",
   "execution_count": 587,
   "metadata": {},
   "outputs": [
    {
     "data": {
      "text/plain": [
       "(array([1., 1., 0., 1., 0., 1., 3., 1., 1., 1.]),\n",
       " array([-1.78452484, -1.32311533, -0.86170583, -0.40029632,  0.06111318,\n",
       "         0.52252269,  0.98393219,  1.4453417 ,  1.9067512 ,  2.36816071,\n",
       "         2.82957021]),\n",
       " <BarContainer object of 10 artists>)"
      ]
     },
     "execution_count": 587,
     "metadata": {},
     "output_type": "execute_result"
    },
    {
     "data": {
      "image/png": "[encoded data removed]",
      "text/plain": [
       "<Figure size 432x288 with 1 Axes>"
      ]
     },
     "metadata": {
      "needs_background": "light"
     },
     "output_type": "display_data"
    }
   ],
   "source": [
    "plt.hist(x)"
   ]
  },
  {
   "cell_type": "code",
   "execution_count": 588,
   "metadata": {},
   "outputs": [],
   "source": [
    "Nodes = [f'a{i}' for i in range(0, 2)] + [f'b{i}' for i in range(0, 2)]\n",
    "\n",
    "C_G = nx.complete_graph(Nodes)"
   ]
  },
  {
   "cell_type": "code",
   "execution_count": 589,
   "metadata": {},
   "outputs": [],
   "source": [
    "bqm = dimod.BinaryQuadraticModel.empty(dimod.BINARY)\n",
    "\n",
    "node_bias = []\n",
    "\n",
    "for i, node in enumerate(C_G.nodes):\n",
    "    if node[0] == 'a':\n",
    "        p = int(node[1:])\n",
    "        w = -np.sum(2**p * fA(x, mu0, var0) + (2**(2*p - 1) - 2**p*mu0)*fAA(var0) - 2**p*var0*fAB(x, mu0, var0))\n",
    "        \n",
    "        node_bias.append(w)\n",
    "        bqm.add_variable(v=node, bias=w)\n",
    "    else:\n",
    "        p = int(node[1:])\n",
    "        w = -np.sum(2**p * fB(x, mu0, var0) + (2**(2*p - 1) - 2**p*var0)*fBB(x, mu0, var0) - 2**p*var0*fAB(x, mu0, var0))\n",
    "        \n",
    "        node_bias.append(w)\n",
    "        bqm.add_variable(v=node, bias=w)"
   ]
  },
  {
   "cell_type": "code",
   "execution_count": 590,
   "metadata": {},
   "outputs": [
    {
     "data": {
      "text/plain": [
       "(array([3., 0., 0., 0., 0., 0., 0., 0., 0., 1.]),\n",
       " array([-123.49875348,   83.87255844,  291.24387036,  498.61518229,\n",
       "         705.98649421,  913.35780614, 1120.72911806, 1328.10042998,\n",
       "        1535.47174191, 1742.84305383, 1950.21436575]),\n",
       " <BarContainer object of 10 artists>)"
      ]
     },
     "execution_count": 590,
     "metadata": {},
     "output_type": "execute_result"
    },
    {
     "data": {
      "image/png": "[encoded data removed]",
      "text/plain": [
       "<Figure size 432x288 with 1 Axes>"
      ]
     },
     "metadata": {
      "needs_background": "light"
     },
     "output_type": "display_data"
    }
   ],
   "source": [
    "plt.hist(node_bias)"
   ]
  },
  {
   "cell_type": "code",
   "execution_count": 591,
   "metadata": {},
   "outputs": [],
   "source": [
    "A = []\n",
    "B = []\n",
    "AB = []\n",
    "\n",
    "link_A, link_B, link_AB = 0, 0, 0\n",
    "eps_A = 0\n",
    "eps_B = 0\n",
    "eps_AB = 10000\n",
    "\n",
    "for edge in C_G.edges:\n",
    "    node1, node2 = edge\n",
    "    if node1[0] == node2[0] == 'a':\n",
    "        pi = int(node1[1:])\n",
    "        pj = int(node2[1:])\n",
    "        w = -2**(pi+pj)*fAA(var0)\n",
    "        \n",
    "        #w = np.sqrt(w)\n",
    "        if w > eps_A:\n",
    "            link_A += 1\n",
    "            A.append(w)\n",
    "            bqm.add_interaction(node1, node2, w)\n",
    "            \n",
    "    elif node1[0] == node2[0] == 'b':\n",
    "        pi = int(node1[1:])\n",
    "        pj = int(node2[1:])\n",
    "        w = -np.sum(2**(pi+pj)*fBB(x, mu0, var0))\n",
    "        \n",
    "        #w = np.sqrt(w)\n",
    "        if w > eps_B:\n",
    "            link_B += 1\n",
    "            B.append(w)\n",
    "            bqm.add_interaction(node1, node2, w)\n",
    "            \n",
    "    else:\n",
    "        pi = int(node1[1:])\n",
    "        pj = int(node2[1:])\n",
    "        w = -np.sum(2**(pi+pj)*fAB(x, mu0, var0))\n",
    "        \n",
    "        #w = np.sqrt(w)\n",
    "        if w < eps_AB:    \n",
    "            link_AB += 1\n",
    "            AB.append(w)\n",
    "            bqm.add_interaction(node1, node2, w)"
   ]
  },
  {
   "cell_type": "code",
   "execution_count": 592,
   "metadata": {},
   "outputs": [
    {
     "data": {
      "text/plain": [
       "4394.42374543676"
      ]
     },
     "execution_count": 592,
     "metadata": {},
     "output_type": "execute_result"
    }
   ],
   "source": [
    "np.max(A + B +AB)"
   ]
  },
  {
   "cell_type": "code",
   "execution_count": 593,
   "metadata": {},
   "outputs": [
    {
     "data": {
      "image/png": "[encoded data removed]",
      "text/plain": [
       "<Figure size 432x288 with 1 Axes>"
      ]
     },
     "metadata": {
      "needs_background": "light"
     },
     "output_type": "display_data"
    }
   ],
   "source": [
    "plt.hist(AB, bins=10);"
   ]
  },
  {
   "cell_type": "code",
   "execution_count": 594,
   "metadata": {},
   "outputs": [
    {
     "data": {
      "text/plain": [
       "(1, 1, 4, 6)"
      ]
     },
     "execution_count": 594,
     "metadata": {},
     "output_type": "execute_result"
    }
   ],
   "source": [
    "link_A, link_B, link_AB, link_A+link_B+link_AB"
   ]
  },
  {
   "cell_type": "code",
   "execution_count": 595,
   "metadata": {},
   "outputs": [
    {
     "data": {
      "text/plain": [
       "-117.18463321164694"
      ]
     },
     "execution_count": 595,
     "metadata": {},
     "output_type": "execute_result"
    }
   ],
   "source": [
    "np.sum(-(x-mu0)**2/(var0)**2)"
   ]
  },
  {
   "cell_type": "code",
   "execution_count": 624,
   "metadata": {},
   "outputs": [],
   "source": [
    "sampleset = EmbeddingComposite(DWaveSampler()).sample(bqm, num_reads=5000, chain_strength=0) #"
   ]
  },
  {
   "cell_type": "code",
   "execution_count": 625,
   "metadata": {},
   "outputs": [
    {
     "data": {
      "text/plain": [
       "Variables(['a0', 'a1', 'b0', 'b1'])"
      ]
     },
     "execution_count": 625,
     "metadata": {},
     "output_type": "execute_result"
    }
   ],
   "source": [
    "sampleset.variables"
   ]
  },
  {
   "cell_type": "code",
   "execution_count": 626,
   "metadata": {},
   "outputs": [
    {
     "data": {
      "text/plain": [
       "rec.array([([0, 0, 1, 0], -123.49875348, 1371, 0.),\n",
       "           ([1, 1, 0, 0],  -87.18008781,  655, 0.),\n",
       "           ([1, 0, 0, 0],  -54.06002927,  526, 0.),\n",
       "           ([1, 0, 1, 0],  -51.91288844,  721, 0.),\n",
       "           ([0, 1, 0, 0],  -45.62005854,  646, 0.),\n",
       "           ([0, 0, 0, 0],    0.        ,  470, 0.),\n",
       "           ([0, 1, 1, 0],   82.1729766 ,  416, 0.),\n",
       "           ([1, 1, 1, 0],  166.25884165,  194, 0.),\n",
       "           ([0, 0, 0, 1], 1950.21436575,    1, 0.)],\n",
       "          dtype=[('sample', 'i1', (4,)), ('energy', '<f8'), ('num_occurrences', '<i4'), ('chain_break_fraction', '<f8')])"
      ]
     },
     "execution_count": 626,
     "metadata": {},
     "output_type": "execute_result"
    }
   ],
   "source": [
    "sampleset.record"
   ]
  },
  {
   "cell_type": "code",
   "execution_count": 627,
   "metadata": {},
   "outputs": [
    {
     "data": {
      "text/plain": [
       "\"lowest_state = sampleset.lowest().record[0][0]\\nmu, var = 0, 0\\n\\nfor i, sol in enumerate(lowest_state):\\n        p = int(sampleset.variables[i][1:])\\n        if sampleset.variables[i][0] == 'a':\\n            mu = mu + 2**(p) * sol\\n        else:\\n            var = var + 2**(p) * sol\\n            \\nmu, var\""
      ]
     },
     "execution_count": 627,
     "metadata": {},
     "output_type": "execute_result"
    }
   ],
   "source": [
    "'''lowest_state = sampleset.lowest().record[0][0]\n",
    "mu, var = 0, 0\n",
    "\n",
    "for i, sol in enumerate(lowest_state):\n",
    "        p = int(sampleset.variables[i][1:])\n",
    "        if sampleset.variables[i][0] == 'a':\n",
    "            mu = mu + 2**(p) * sol\n",
    "        else:\n",
    "            var = var + 2**(p) * sol\n",
    "            \n",
    "mu, var'''"
   ]
  },
  {
   "cell_type": "code",
   "execution_count": 660,
   "metadata": {},
   "outputs": [],
   "source": [
    "theta = []\n",
    "phi = []\n",
    "energy = []\n",
    "\n",
    "for k, rec in enumerate(sampleset.record):\n",
    "    states = rec[0]\n",
    "    energy += [rec[1]] * freq\n",
    "    freq = rec[2]\n",
    "    mu = 0\n",
    "    var = 0\n",
    "    for i, sol in enumerate(states):\n",
    "        #p = int(sampleset.variables[i][1:])\n",
    "        p = int(Nodes[-i][1:])\n",
    "        if Nodes[-i][0] == 'a':\n",
    "        #if sampleset.variables[i][0] == 'a':\n",
    "            mu = mu + 2**(p) * sol\n",
    "        else:\n",
    "            var = var + 2**(p) * sol\n",
    "            \n",
    "    theta += [mu] * freq\n",
    "    phi += [var] * freq"
   ]
  },
  {
   "cell_type": "code",
   "execution_count": 674,
   "metadata": {},
   "outputs": [
    {
     "data": {
      "image/png": "[encoded data removed]",
      "text/plain": [
       "<Figure size 432x288 with 1 Axes>"
      ]
     },
     "metadata": {
      "needs_background": "light"
     },
     "output_type": "display_data"
    }
   ],
   "source": [
    "plt.hist(theta, bins='auto');\n",
    "plt.xlabel('$\\mu$', fontdict={'fontsize': 15})\n",
    "plt.title('Istogramma Media ($\\mu$)', fontdict={'fontsize':15})\n",
    "plt.savefig('media.png')"
   ]
  },
  {
   "cell_type": "code",
   "execution_count": 662,
   "metadata": {},
   "outputs": [
    {
     "data": {
      "image/png": "[encoded data removed]",
      "text/plain": [
       "<Figure size 432x288 with 1 Axes>"
      ]
     },
     "metadata": {
      "needs_background": "light"
     },
     "output_type": "display_data"
    }
   ],
   "source": [
    "plt.hist(phi, bins='auto')\n",
    "plt.xlabel('$\\sigma^2$', fontdict={'fontsize': 15})\n",
    "plt.title('Istogramma Varianza ($\\sigma^2$)', fontdict={'fontsize':15})\n",
    "plt.savefig('varianza.png')"
   ]
  },
  {
   "cell_type": "code",
   "execution_count": 663,
   "metadata": {},
   "outputs": [
    {
     "data": {
      "text/plain": [
       "Text(0, 0.5, 'Varianza')"
      ]
     },
     "execution_count": 663,
     "metadata": {},
     "output_type": "execute_result"
    },
    {
     "data": {
      "image/png": "[encoded data removed]",
      "text/plain": [
       "<Figure size 432x288 with 1 Axes>"
      ]
     },
     "metadata": {
      "needs_background": "light"
     },
     "output_type": "display_data"
    }
   ],
   "source": [
    "plt.hist2d(theta, phi);\n",
    "plt.xlabel('Media')\n",
    "plt.ylabel('Varianza')"
   ]
  },
  {
   "cell_type": "code",
   "execution_count": 672,
   "metadata": {},
   "outputs": [
    {
     "data": {
      "image/png": "[encoded data removed]",
      "text/plain": [
       "<Figure size 432x288 with 1 Axes>"
      ]
     },
     "metadata": {
      "needs_background": "light"
     },
     "output_type": "display_data"
    }
   ],
   "source": [
    "plt.hist2d(energy, theta);"
   ]
  },
  {
   "cell_type": "code",
   "execution_count": 671,
   "metadata": {},
   "outputs": [
    {
     "data": {
      "image/png": "[encoded data removed]",
      "text/plain": [
       "<Figure size 432x288 with 1 Axes>"
      ]
     },
     "metadata": {
      "needs_background": "light"
     },
     "output_type": "display_data"
    }
   ],
   "source": [
    "plt.hist2d(energy, phi);"
   ]
  },
  {
   "cell_type": "code",
   "execution_count": 667,
   "metadata": {},
   "outputs": [
    {
     "data": {
      "text/plain": [
       "<matplotlib.collections.PathCollection at 0x19d8525c880>"
      ]
     },
     "execution_count": 667,
     "metadata": {},
     "output_type": "execute_result"
    },
    {
     "data": {
      "image/png": "[encoded data removed]",
      "text/plain": [
       "<Figure size 432x288 with 1 Axes>"
      ]
     },
     "metadata": {
      "needs_background": "light"
     },
     "output_type": "display_data"
    }
   ],
   "source": [
    "plt.scatter(energy, theta)"
   ]
  },
  {
   "cell_type": "code",
   "execution_count": 668,
   "metadata": {},
   "outputs": [
    {
     "data": {
      "text/plain": [
       "<matplotlib.collections.PathCollection at 0x19d85582370>"
      ]
     },
     "execution_count": 668,
     "metadata": {},
     "output_type": "execute_result"
    },
    {
     "data": {
      "image/png": "[encoded data removed]",
      "text/plain": [
       "<Figure size 432x288 with 1 Axes>"
      ]
     },
     "metadata": {
      "needs_background": "light"
     },
     "output_type": "display_data"
    }
   ],
   "source": [
    "plt.scatter(energy, phi)"
   ]
  },
  {
   "cell_type": "code",
   "execution_count": 669,
   "metadata": {},
   "outputs": [
    {
     "data": {
      "text/plain": [
       "'http://127.0.0.1:18000/?problemId=c51a147b-2a39-48e9-b442-e86ef9ab9508'"
      ]
     },
     "execution_count": 669,
     "metadata": {},
     "output_type": "execute_result"
    }
   ],
   "source": [
    "dwave.inspector.show(sampleset)"
   ]
  }
 ],
 "metadata": {
  "interpreter": {
   "hash": "72e85bf8702a5531dd105b812468c0bac16632bcd99c74cc9ab556b094ff7be4"
  },
  "kernelspec": {
   "display_name": "Python 3.9.6 64-bit",
   "language": "python",
   "name": "python3"
  },
  "language_info": {
   "codemirror_mode": {
    "name": "ipython",
    "version": 3
   },
   "file_extension": ".py",
   "mimetype": "text/x-python",
   "name": "python",
   "nbconvert_exporter": "python",
   "pygments_lexer": "ipython3",
   "version": "3.9.6"
  },
  "orig_nbformat": 4
 },
 "nbformat": 4,
 "nbformat_minor": 2
}
