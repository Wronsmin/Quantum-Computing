{
 "cells": [
  {
   "cell_type": "markdown",
   "metadata": {},
   "source": [
    "## Codice usando i dati presenti nel  [paper(pag 18, paragrafo 4.2)](https://drive.google.com/file/d/1YBFS7FW81_pyuryAb5ISiofgLkT7Gp-P/view?usp=sharing)."
   ]
  },
  {
   "cell_type": "code",
   "execution_count": 1,
   "metadata": {},
   "outputs": [],
   "source": [
    "import networkx as nx\n",
    "import matplotlib.pyplot as plt\n",
    "from utils import *\n",
    "import numpy as np \n",
    "from dwave.system import DWaveSampler, EmbeddingComposite, DWaveCliqueSampler\n",
    "import dimod\n",
    "import dwave.inspector\n",
    "import pickle"
   ]
  },
  {
   "cell_type": "code",
   "execution_count": 2,
   "metadata": {},
   "outputs": [],
   "source": [
    "mu0 = 0.0\n",
    "var0 = 1\n",
    "\n",
    "x = np.array([-2.296, -0.216, -0.082, 0.231, 1.127, 1.164, 1.189, 1.236, 1.272, 1.373])"
   ]
  },
  {
   "cell_type": "code",
   "execution_count": 3,
   "metadata": {},
   "outputs": [],
   "source": [
    "Nodes = [f'a{i}' for i in range(-7, 2)] + [f'b{i}' for i in range(-7, 2)]\n",
    "\n",
    "C_G = nx.complete_graph(Nodes)"
   ]
  },
  {
   "cell_type": "code",
   "execution_count": 4,
   "metadata": {},
   "outputs": [],
   "source": [
    "bqm = dimod.BinaryQuadraticModel.empty(dimod.BINARY)\n",
    "\n",
    "for i, node in enumerate(C_G.nodes):\n",
    "    if node[0] == 'a':\n",
    "        p = int(node[1:])\n",
    "        w = -np.sum(2**p * fA(x, mu0, var0) + (2**(2*p - 1) - 2**p*mu0)*fAA(var0) - 2**p*var0*fAB(x, mu0, var0))\n",
    "        \n",
    "        bqm.add_variable(v=node, bias=w)\n",
    "    else:\n",
    "        p = int(node[1:])\n",
    "        w = -np.sum(2**p * fB(x, mu0, var0) + (2**(2*p - 1) - 2**p*var0)*fBB(x, mu0, var0) - 2**p*var0*fAB(x, mu0, var0))\n",
    "        \n",
    "        bqm.add_variable(v=node, bias=w)"
   ]
  },
  {
   "cell_type": "code",
   "execution_count": 5,
   "metadata": {},
   "outputs": [],
   "source": [
    "A = []\n",
    "B = []\n",
    "AB = []\n",
    "\n",
    "link_A, link_B, link_AB = 0, 0, 0\n",
    "\n",
    "for edge in C_G.edges:\n",
    "    node1, node2 = edge\n",
    "    if node1[0] == node2[0] == 'a':\n",
    "        pi = int(node1[1:])\n",
    "        pj = int(node2[1:])\n",
    "        w = -2**(pi+pj)*fAA(var0)\n",
    "        \n",
    "        link_A += 1\n",
    "        A.append(w)\n",
    "        bqm.add_interaction(node1, node2, w)\n",
    "        \n",
    "    elif node1[0] == node2[0] == 'b':\n",
    "        pi = int(node1[1:])\n",
    "        pj = int(node2[1:])\n",
    "        w = -np.sum(2**(pi+pj)*fBB(x, mu0, var0))\n",
    "        \n",
    "        link_B += 1\n",
    "        B.append(w)\n",
    "        bqm.add_interaction(node1, node2, w)\n",
    "        \n",
    "    else:\n",
    "        pi = int(node1[1:])\n",
    "        pj = int(node2[1:])\n",
    "        w = -np.sum(2**(pi+pj)*fAB(x, mu0, var0))\n",
    "        \n",
    "        link_AB += 1\n",
    "        AB.append(w)\n",
    "        bqm.add_interaction(node1, node2, w)"
   ]
  },
  {
   "cell_type": "code",
   "execution_count": 6,
   "metadata": {},
   "outputs": [
    {
     "data": {
      "text/plain": [
       "(36, 36, 81)"
      ]
     },
     "execution_count": 6,
     "metadata": {},
     "output_type": "execute_result"
    }
   ],
   "source": [
    "link_A, link_B, link_AB"
   ]
  },
  {
   "cell_type": "code",
   "execution_count": 7,
   "metadata": {},
   "outputs": [
    {
     "data": {
      "text/plain": [
       "-14.447911999999999"
      ]
     },
     "execution_count": 7,
     "metadata": {},
     "output_type": "execute_result"
    }
   ],
   "source": [
    "np.sum(-(x-mu0)**2/(var0)**2)"
   ]
  },
  {
   "cell_type": "code",
   "execution_count": 30,
   "metadata": {},
   "outputs": [],
   "source": [
    "sampleset = EmbeddingComposite(DWaveSampler()).sample(bqm, num_reads=1000, chain_strength=0) #"
   ]
  },
  {
   "cell_type": "code",
   "execution_count": 31,
   "metadata": {},
   "outputs": [
    {
     "data": {
      "text/plain": [
       "(0.3671875, 1.4140625)"
      ]
     },
     "execution_count": 31,
     "metadata": {},
     "output_type": "execute_result"
    }
   ],
   "source": [
    "lowest_state = sampleset.lowest().record[0][0]\n",
    "mu, var = 0, 0\n",
    "\n",
    "for i, sol in enumerate(lowest_state):\n",
    "        p = int(sampleset.variables[i][1:])\n",
    "        if sampleset.variables[i][0] == 'a':\n",
    "            mu = mu + 2**(p) * sol\n",
    "        else:\n",
    "            var = var + 2**(p) * sol\n",
    "            \n",
    "mu, var"
   ]
  },
  {
   "cell_type": "code",
   "execution_count": 32,
   "metadata": {},
   "outputs": [],
   "source": [
    "theta = np.zeros(len(sampleset.record))\n",
    "phi = np.zeros(len(sampleset.record))\n",
    "\n",
    "for k, rec in enumerate(sampleset.record):\n",
    "    states = rec[0]\n",
    "    mu = 0\n",
    "    var = 0\n",
    "    for i, sol in enumerate(states):\n",
    "        p = int(sampleset.variables[i][1:])\n",
    "        if sampleset.variables[i][0] == 'a':\n",
    "            mu = mu + 2**(p) * sol\n",
    "        else:\n",
    "            var = var + 2**(p) * sol\n",
    "            \n",
    "    theta[k] = mu\n",
    "    phi[k] = var"
   ]
  },
  {
   "cell_type": "code",
   "execution_count": 33,
   "metadata": {},
   "outputs": [
    {
     "data": {
      "image/png": "[encoded data removed]",
      "text/plain": [
       "<Figure size 432x288 with 1 Axes>"
      ]
     },
     "metadata": {
      "needs_background": "light"
     },
     "output_type": "display_data"
    }
   ],
   "source": [
    "plt.hist(theta, bins='auto');\n",
    "plt.xlabel('$\\mu$', fontdict={'fontsize': 15})\n",
    "plt.title('Istogramma Media ($\\mu$)', fontdict={'fontsize':15})\n",
    "plt.savefig('media.png')"
   ]
  },
  {
   "cell_type": "code",
   "execution_count": 34,
   "metadata": {},
   "outputs": [
    {
     "data": {
      "image/png": "[encoded data removed]",
      "text/plain": [
       "<Figure size 432x288 with 1 Axes>"
      ]
     },
     "metadata": {
      "needs_background": "light"
     },
     "output_type": "display_data"
    }
   ],
   "source": [
    "plt.hist(phi, bins='auto')\n",
    "plt.xlabel('$\\sigma^2$', fontdict={'fontsize': 15})\n",
    "plt.title('Istogramma Varianza ($\\sigma^2$)', fontdict={'fontsize':15})\n",
    "plt.savefig('varianza.png')"
   ]
  },
  {
   "cell_type": "code",
   "execution_count": 35,
   "metadata": {},
   "outputs": [
    {
     "data": {
      "text/plain": [
       "'http://127.0.0.1:18000/?problemId=cdb7b6a0-14a1-4583-ab0a-3a43cf9a9187'"
      ]
     },
     "execution_count": 35,
     "metadata": {},
     "output_type": "execute_result"
    }
   ],
   "source": [
    "dwave.inspector.show(sampleset)"
   ]
  }
 ],
 "metadata": {
  "interpreter": {
   "hash": "72e85bf8702a5531dd105b812468c0bac16632bcd99c74cc9ab556b094ff7be4"
  },
  "kernelspec": {
   "display_name": "Python 3.9.6 64-bit",
   "language": "python",
   "name": "python3"
  },
  "language_info": {
   "codemirror_mode": {
    "name": "ipython",
    "version": 3
   },
   "file_extension": ".py",
   "mimetype": "text/x-python",
   "name": "python",
   "nbconvert_exporter": "python",
   "pygments_lexer": "ipython3",
   "version": "3.9.6"
  },
  "orig_nbformat": 4
 },
 "nbformat": 4,
 "nbformat_minor": 2
}
