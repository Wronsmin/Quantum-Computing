{
 "cells": [
  {
   "cell_type": "markdown",
   "metadata": {},
   "source": [
    "## Codice usando i dati presenti nel  [paper(pag 18, paragrafo 4.2)](https://drive.google.com/file/d/1YBFS7FW81_pyuryAb5ISiofgLkT7Gp-P/view?usp=sharing)."
   ]
  },
  {
   "cell_type": "code",
   "execution_count": 4,
   "metadata": {},
   "outputs": [],
   "source": [
    "import networkx as nx\n",
    "import matplotlib.pyplot as plt\n",
    "from utils import *\n",
    "import numpy as np \n",
    "from dwave.system import DWaveSampler, EmbeddingComposite, DWaveCliqueSampler\n",
    "import dimod\n",
    "import dwave.inspector\n",
    "\n",
    "mu0 = 0.0\n",
    "var0 = 1\n",
    "\n",
    "x = np.array([-2.296, -0.216, -0.082, 0.231, 1.127, 1.164, 1.189, 1.236, 1.272, 1.373])"
   ]
  },
  {
   "cell_type": "code",
   "execution_count": 3,
   "metadata": {},
   "outputs": [],
   "source": [
    "Nodes = [f'a{i}' for i in range(-7, 2)] + [f'b{i}' for i in range(-7, 2)]\n",
    "\n",
    "C_G = nx.complete_graph(Nodes)"
   ]
  },
  {
   "cell_type": "code",
   "execution_count": 4,
   "metadata": {},
   "outputs": [],
   "source": [
    "bqm = dimod.BinaryQuadraticModel.empty(dimod.BINARY)\n",
    "\n",
    "for i, node in enumerate(C_G.nodes):\n",
    "    if node[0] == 'a':\n",
    "        p = int(node[1:])\n",
    "        w = -np.sum(2**p * fA(x, mu0, var0) + (2**(2*p - 1) - 2**p*mu0)*fAA(var0) - 2**p*var0*fAB(x, mu0, var0))\n",
    "        \n",
    "        bqm.add_variable(v=node, bias=w)\n",
    "    else:\n",
    "        p = int(node[1:])\n",
    "        w = -np.sum(2**p * fB(x, mu0, var0) + (2**(2*p - 1) - 2**p*var0)*fBB(x, mu0, var0) - 2**p*var0*fAB(x, mu0, var0))\n",
    "        \n",
    "        bqm.add_variable(v=node, bias=w)"
   ]
  },
  {
   "cell_type": "code",
   "execution_count": 5,
   "metadata": {},
   "outputs": [],
   "source": [
    "A = []\n",
    "B = []\n",
    "AB = []\n",
    "\n",
    "link_A, link_B, link_AB = 0, 0, 0\n",
    "\n",
    "for edge in C_G.edges:\n",
    "    node1, node2 = edge\n",
    "    if node1[0] == node2[0] == 'a':\n",
    "        pi = int(node1[1:])\n",
    "        pj = int(node2[1:])\n",
    "        w = -2**(pi+pj)*fAA(var0)\n",
    "        \n",
    "        link_A += 1\n",
    "        A.append(w)\n",
    "        bqm.add_interaction(node1, node2, w)\n",
    "        \n",
    "    elif node1[0] == node2[0] == 'b':\n",
    "        pi = int(node1[1:])\n",
    "        pj = int(node2[1:])\n",
    "        w = -np.sum(2**(pi+pj)*fBB(x, mu0, var0))\n",
    "        \n",
    "        link_B += 1\n",
    "        B.append(w)\n",
    "        bqm.add_interaction(node1, node2, w)\n",
    "        \n",
    "    else:\n",
    "        pi = int(node1[1:])\n",
    "        pj = int(node2[1:])\n",
    "        w = -np.sum(2**(pi+pj)*fAB(x, mu0, var0))\n",
    "        \n",
    "        link_AB += 1\n",
    "        AB.append(w)\n",
    "        bqm.add_interaction(node1, node2, w)"
   ]
  },
  {
   "cell_type": "code",
   "execution_count": 6,
   "metadata": {},
   "outputs": [
    {
     "data": {
      "text/plain": [
       "(36, 36, 81)"
      ]
     },
     "execution_count": 6,
     "metadata": {},
     "output_type": "execute_result"
    }
   ],
   "source": [
    "link_A, link_B, link_AB"
   ]
  },
  {
   "cell_type": "code",
   "execution_count": 7,
   "metadata": {},
   "outputs": [
    {
     "data": {
      "text/plain": [
       "-14.447911999999999"
      ]
     },
     "execution_count": 7,
     "metadata": {},
     "output_type": "execute_result"
    }
   ],
   "source": [
    "np.sum(-(x-mu0)**2/(var0)**2)"
   ]
  },
  {
   "cell_type": "code",
   "execution_count": 42,
   "metadata": {},
   "outputs": [],
   "source": [
    "from dwave.system import DWaveSampler, EmbeddingComposite, DWaveCliqueSampler\n",
    "import dimod\n",
    "import dwave.inspector\n",
    "\n",
    "sampleset = EmbeddingComposite(DWaveSampler()).sample(bqm, num_reads=100, chain_strength=0) #"
   ]
  },
  {
   "cell_type": "code",
   "execution_count": 43,
   "metadata": {},
   "outputs": [
    {
     "data": {
      "text/plain": [
       "Variables(['a-1', 'a-2', 'a-3', 'a-4', 'a-5', 'a-6', 'a-7', 'a0', 'a1', 'b-1', 'b-2', 'b-3', 'b-4', 'b-5', 'b-6', 'b-7', 'b0', 'b1'])"
      ]
     },
     "execution_count": 43,
     "metadata": {},
     "output_type": "execute_result"
    }
   ],
   "source": [
    "sampleset.variables"
   ]
  },
  {
   "cell_type": "code",
   "execution_count": 44,
   "metadata": {},
   "outputs": [],
   "source": [
    "theta = np.zeros(len(sampleset.record))\n",
    "phi = np.zeros(len(sampleset.record))\n",
    "\n",
    "for k, rec in enumerate(sampleset.record):\n",
    "    states = rec[0]\n",
    "    mu = 0\n",
    "    var = 0\n",
    "    for i, sol in enumerate(states):\n",
    "        p = int(sampleset.variables[i][1:])\n",
    "        if sampleset.variables[i][0] == 'a':\n",
    "            mu = mu + 2**(p) * sol\n",
    "        else:\n",
    "            var = var + 2**(p) * sol\n",
    "            \n",
    "    theta[k] = mu\n",
    "    phi[k] = var"
   ]
  },
  {
   "cell_type": "code",
   "execution_count": 45,
   "metadata": {},
   "outputs": [
    {
     "data": {
      "text/plain": [
       "(array([ 5., 14., 17.,  1.,  2.,  6., 17., 38.]),\n",
       " array([0.3671875, 0.5703125, 0.7734375, 0.9765625, 1.1796875, 1.3828125,\n",
       "        1.5859375, 1.7890625, 1.9921875]),\n",
       " <BarContainer object of 8 artists>)"
      ]
     },
     "execution_count": 45,
     "metadata": {},
     "output_type": "execute_result"
    },
    {
     "data": {
      "image/png": "[encoded data removed]",
      "text/plain": [
       "<Figure size 432x288 with 1 Axes>"
      ]
     },
     "metadata": {
      "needs_background": "light"
     },
     "output_type": "display_data"
    }
   ],
   "source": [
    "plt.hist(theta, bins='auto')"
   ]
  },
  {
   "cell_type": "code",
   "execution_count": 46,
   "metadata": {},
   "outputs": [
    {
     "data": {
      "text/plain": [
       "(array([ 1.,  1.,  2.,  1.,  0.,  0.,  0.,  1.,  0.,  0.,  0.,  0.,  0.,\n",
       "         0.,  0.,  0.,  0.,  0.,  0.,  0.,  0.,  0.,  0.,  0.,  0.,  4.,\n",
       "         7.,  5., 16., 13., 25.,  0.,  0.,  2.,  5.,  3.,  4.,  6.,  0.,\n",
       "         0.,  1.,  0.,  0.,  2.,  0.,  0.,  0.,  0.,  0.,  0.,  1.]),\n",
       " array([0.1171875 , 0.15395221, 0.19071691, 0.22748162, 0.26424632,\n",
       "        0.30101103, 0.33777574, 0.37454044, 0.41130515, 0.44806985,\n",
       "        0.48483456, 0.52159926, 0.55836397, 0.59512868, 0.63189338,\n",
       "        0.66865809, 0.70542279, 0.7421875 , 0.77895221, 0.81571691,\n",
       "        0.85248162, 0.88924632, 0.92601103, 0.96277574, 0.99954044,\n",
       "        1.03630515, 1.07306985, 1.10983456, 1.14659926, 1.18336397,\n",
       "        1.22012868, 1.25689338, 1.29365809, 1.33042279, 1.3671875 ,\n",
       "        1.40395221, 1.44071691, 1.47748162, 1.51424632, 1.55101103,\n",
       "        1.58777574, 1.62454044, 1.66130515, 1.69806985, 1.73483456,\n",
       "        1.77159926, 1.80836397, 1.84512868, 1.88189338, 1.91865809,\n",
       "        1.95542279, 1.9921875 ]),\n",
       " <BarContainer object of 51 artists>)"
      ]
     },
     "execution_count": 46,
     "metadata": {},
     "output_type": "execute_result"
    },
    {
     "data": {
      "image/png": "[encoded data removed]",
      "text/plain": [
       "<Figure size 432x288 with 1 Axes>"
      ]
     },
     "metadata": {
      "needs_background": "light"
     },
     "output_type": "display_data"
    }
   ],
   "source": [
    "plt.hist(phi, bins='auto')"
   ]
  },
  {
   "cell_type": "code",
   "execution_count": 47,
   "metadata": {},
   "outputs": [
    {
     "data": {
      "text/plain": [
       "'http://127.0.0.1:18000/?problemId=df9d5a9d-60b1-4ccd-9b65-53ad58cee225'"
      ]
     },
     "execution_count": 47,
     "metadata": {},
     "output_type": "execute_result"
    }
   ],
   "source": [
    "dwave.inspector.show(sampleset)"
   ]
  },
  {
   "cell_type": "code",
   "execution_count": null,
   "metadata": {},
   "outputs": [],
   "source": []
  }
 ],
 "metadata": {
  "interpreter": {
   "hash": "72e85bf8702a5531dd105b812468c0bac16632bcd99c74cc9ab556b094ff7be4"
  },
  "kernelspec": {
   "display_name": "Python 3.9.6 64-bit",
   "language": "python",
   "name": "python3"
  },
  "language_info": {
   "codemirror_mode": {
    "name": "ipython",
    "version": 3
   },
   "file_extension": ".py",
   "mimetype": "text/x-python",
   "name": "python",
   "nbconvert_exporter": "python",
   "pygments_lexer": "ipython3",
   "version": "3.9.6"
  },
  "orig_nbformat": 4
 },
 "nbformat": 4,
 "nbformat_minor": 2
}
