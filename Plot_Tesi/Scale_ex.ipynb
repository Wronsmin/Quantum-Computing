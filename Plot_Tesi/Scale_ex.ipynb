{
 "cells": [
  {
   "cell_type": "code",
   "execution_count": 1,
   "metadata": {},
   "outputs": [],
   "source": [
    "from dwave.system import DWaveSampler, EmbeddingComposite\n",
    "sampler = EmbeddingComposite(DWaveSampler())"
   ]
  },
  {
   "cell_type": "code",
   "execution_count": 2,
   "metadata": {},
   "outputs": [],
   "source": [
    "Q1 = {('q1', 'q1'): 0.1, ('q2', 'q2'): 0.1, ('q1', 'q2'): -0.2}\n",
    "Q2 = {('q1', 'q1'): 0.5, ('q2', 'q2'): 0.5, ('q1', 'q2'): -1}"
   ]
  },
  {
   "cell_type": "code",
   "execution_count": 3,
   "metadata": {},
   "outputs": [],
   "source": [
    "sampleset1 = sampler.sample_qubo(Q1, num_reads=5000)\n",
    "sampleset2 = sampler.sample_qubo(Q2, num_reads=5000)\n",
    "\n",
    "sampleset3 = sampler.sample_qubo(Q1, num_reads=5000, auto_scale=False)\n",
    "sampleset4 = sampler.sample_qubo(Q2, num_reads=5000, auto_scale=False)"
   ]
  },
  {
   "cell_type": "code",
   "execution_count": 7,
   "metadata": {},
   "outputs": [
    {
     "name": "stdout",
     "output_type": "stream",
     "text": [
      "  q1 q2 energy num_oc. chain_.\n",
      "0  0  0    0.0    2171     0.0\n",
      "1  1  1    0.0    2828     0.0\n",
      "2  1  0    0.1       1     0.0\n",
      "['BINARY', 3 rows, 5000 samples, 2 variables]\n",
      "  q1 q2 energy num_oc. chain_.\n",
      "0  0  0    0.0    1932     0.0\n",
      "1  1  1    0.0    3068     0.0\n",
      "['BINARY', 2 rows, 5000 samples, 2 variables]\n",
      "  q1 q2 energy num_oc. chain_.\n",
      "0  0  0    0.0    1065     0.0\n",
      "1  1  1    0.0    2235     0.0\n",
      "2  0  1    0.1     991     0.0\n",
      "3  1  0    0.1     709     0.0\n",
      "['BINARY', 4 rows, 5000 samples, 2 variables]\n",
      "  q1 q2 energy num_oc. chain_.\n",
      "0  0  0    0.0    1975     0.0\n",
      "1  1  1    0.0    2731     0.0\n",
      "2  1  0    0.5     143     0.0\n",
      "3  0  1    0.5     151     0.0\n",
      "['BINARY', 4 rows, 5000 samples, 2 variables]\n"
     ]
    }
   ],
   "source": [
    "print(sampleset1)\n",
    "print(sampleset2)\n",
    "print(sampleset3)\n",
    "print(sampleset4)"
   ]
  },
  {
   "cell_type": "code",
   "execution_count": null,
   "metadata": {},
   "outputs": [],
   "source": []
  }
 ],
 "metadata": {
  "kernelspec": {
   "display_name": "Python 3",
   "language": "python",
   "name": "python3"
  },
  "language_info": {
   "codemirror_mode": {
    "name": "ipython",
    "version": 3
   },
   "file_extension": ".py",
   "mimetype": "text/x-python",
   "name": "python",
   "nbconvert_exporter": "python",
   "pygments_lexer": "ipython3",
   "version": "3.10.7"
  },
  "orig_nbformat": 4,
  "vscode": {
   "interpreter": {
    "hash": "d043bfe52fdbcdd9ce254683947552669d52a2490379de95516b9980b91447e7"
   }
  }
 },
 "nbformat": 4,
 "nbformat_minor": 2
}
