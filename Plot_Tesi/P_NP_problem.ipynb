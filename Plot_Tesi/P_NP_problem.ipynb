{
 "cells": [
  {
   "cell_type": "code",
   "execution_count": 3,
   "metadata": {},
   "outputs": [
    {
     "name": "stderr",
     "output_type": "stream",
     "text": [
      "C:\\Users\\cosmi\\AppData\\Local\\Temp\\ipykernel_1940\\3994774609.py:30: DeprecationWarning: textsize is deprecated and will be removed in Pillow 10 (2023-07-01). Use textbbox or textlength instead.\n",
      "  np_w, np_h = draw.textsize(text_np, font=font_np)\n",
      "C:\\Users\\cosmi\\AppData\\Local\\Temp\\ipykernel_1940\\3994774609.py:35: DeprecationWarning: textsize is deprecated and will be removed in Pillow 10 (2023-07-01). Use textbbox or textlength instead.\n",
      "  p_w, p_h = draw.textsize(text_p, font=font_p)\n"
     ]
    }
   ],
   "source": [
    "from PIL import Image, ImageDraw, ImageFont\n",
    "\n",
    "# Definiamo le dimensioni del rettangolo e dell'ellisse\n",
    "width, height = 400, 200\n",
    "ellipse_width, ellipse_height = 250, 100\n",
    "\n",
    "# Creiamo un'immagine vuota con il colore di sfondo bianco\n",
    "image = Image.new(\"RGB\", (width, height), (255, 255, 255))\n",
    "\n",
    "# Disegniamo il rettangolo con gli angoli smussati\n",
    "draw = ImageDraw.Draw(image)\n",
    "draw.rounded_rectangle((10, 10, width-10, height-10), 50, fill=None, outline=(0, 0, 0), width=5)\n",
    "\n",
    "# Disegniamo l'ellisse al centro del rettangolo\n",
    "ellipse_x1 = (width-ellipse_width) / 2\n",
    "ellipse_y1 = (height-ellipse_height) / 2\n",
    "ellipse_x2 = ellipse_x1 + ellipse_width\n",
    "ellipse_y2 = ellipse_y1 + ellipse_height\n",
    "draw.ellipse((ellipse_x1, ellipse_y1, ellipse_x2, ellipse_y2), fill=None, outline=(0, 0, 0), width=5)\n",
    "\n",
    "# Aggiungiamo i testi all'interno del rettangolo e dell'ellisse\n",
    "font_size_np = 60\n",
    "font_size_p = 40\n",
    "font_np = ImageFont.truetype(\"arial.ttf\", font_size_np)\n",
    "font_p = ImageFont.truetype(\"arial.ttf\", font_size_p)\n",
    "\n",
    "text_np = \"NP problems\"\n",
    "text_p = \"P problems\"\n",
    "\n",
    "np_w, np_h = draw.textsize(text_np, font=font_np)\n",
    "np_x = (width - np_w) / 2\n",
    "np_y = ((height - np_h - ellipse_height) / 2) + ellipse_height + 10\n",
    "draw.text((np_x, np_y), text_np, font=font_np, fill=(0, 0, 0))\n",
    "\n",
    "p_w, p_h = draw.textsize(text_p, font=font_p)\n",
    "p_x = (width - p_w) / 2\n",
    "p_y = (height - p_h - ellipse_height) / 2\n",
    "draw.text((p_x, p_y), text_p, font=font_p, fill=(0, 0, 0))\n",
    "image.save(\"immagine.png\")"
   ]
  }
 ],
 "metadata": {
  "kernelspec": {
   "display_name": "Python 3",
   "language": "python",
   "name": "python3"
  },
  "language_info": {
   "codemirror_mode": {
    "name": "ipython",
    "version": 3
   },
   "file_extension": ".py",
   "mimetype": "text/x-python",
   "name": "python",
   "nbconvert_exporter": "python",
   "pygments_lexer": "ipython3",
   "version": "3.10.7"
  },
  "orig_nbformat": 4
 },
 "nbformat": 4,
 "nbformat_minor": 2
}
