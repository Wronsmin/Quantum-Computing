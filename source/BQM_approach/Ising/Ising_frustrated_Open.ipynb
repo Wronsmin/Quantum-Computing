{
 "cells": [
  {
   "cell_type": "code",
   "execution_count": 1,
   "metadata": {},
   "outputs": [],
   "source": [
    "import networkx as nx\n",
    "import matplotlib.pyplot as plt\n",
    "import numpy as np\n",
    "import sys\n",
    "sys.path.append('../../../library/')\n",
    "from frustration_graph import *\n",
    "import pickle\n",
    "import os\n",
    "import copy"
   ]
  },
  {
   "cell_type": "code",
   "execution_count": 2,
   "metadata": {},
   "outputs": [],
   "source": [
    "from dwave.system import DWaveSampler, EmbeddingComposite\n",
    "import dimod\n",
    "import dwave.inspector"
   ]
  },
  {
   "cell_type": "code",
   "execution_count": 14,
   "metadata": {},
   "outputs": [],
   "source": [
    "res_path = \"../../../Results/Ising_Frustrated/Open/\"\n",
    "\n",
    "L = 20\n",
    "ratios = np.arange(-1., 0, 0.05)\n",
    "\n",
    "qpu = DWaveSampler()\n",
    "sampler = EmbeddingComposite(qpu)"
   ]
  },
  {
   "cell_type": "code",
   "execution_count": 12,
   "metadata": {},
   "outputs": [
    {
     "data": {
      "text/plain": [
       "50"
      ]
     },
     "execution_count": 12,
     "metadata": {},
     "output_type": "execute_result"
    }
   ],
   "source": [
    "ratios.size"
   ]
  },
  {
   "cell_type": "markdown",
   "metadata": {},
   "source": [
    "## Frustrated Ising without Periodic Conditions"
   ]
  },
  {
   "cell_type": "code",
   "execution_count": 15,
   "metadata": {},
   "outputs": [],
   "source": [
    "filename = f\"/0/{ratios.size}_ratio_points.pickle\"\n",
    "\n",
    "if not os.path.isfile(res_path + filename):\n",
    "    results = []\n",
    "\n",
    "    for const in ratios:\n",
    "        bqm = bqm_frustration(L, const)\n",
    "        sampleset = sampler.sample(bqm, num_reads=500) #chain_strenght=5\n",
    "        \n",
    "        results.append(sampleset)\n",
    "    \n",
    "    Magnetizations = []\n",
    "    Frequencies = []\n",
    "    Energies = []\n",
    "\n",
    "    for result in results: \n",
    "        M, f, E = [], [], []\n",
    "        for record in result.record:\n",
    "            M_mean = np.abs(record[0].mean())\n",
    "            M.append(M_mean)\n",
    "            f.append(record[2])\n",
    "            E.append(record[1])\n",
    "        Magnetizations.append(M)\n",
    "        Frequencies.append(f)\n",
    "        Energies.append(E)\n",
    "\n",
    "    with open(res_path + filename, \"wb\") as file:\n",
    "        pickle.dump([Magnetizations, Energies, Frequencies] , file)\n",
    "else:\n",
    "    with open(res_path + filename, \"rb\") as file:\n",
    "        Magnetizations, Energies, Frequencies = pickle.load(file)"
   ]
  },
  {
   "cell_type": "code",
   "execution_count": null,
   "metadata": {},
   "outputs": [
    {
     "ename": "NameError",
     "evalue": "name 'bqm_frustration1' is not defined",
     "output_type": "error",
     "traceback": [
      "\u001b[1;31m---------------------------------------------------------------------------\u001b[0m",
      "\u001b[1;31mNameError\u001b[0m                                 Traceback (most recent call last)",
      "\u001b[1;32m~\\AppData\\Local\\Temp/ipykernel_14100/2525454983.py\u001b[0m in \u001b[0;36m<module>\u001b[1;34m\u001b[0m\n\u001b[0;32m      6\u001b[0m     \u001b[1;32mfor\u001b[0m \u001b[0mJs\u001b[0m \u001b[1;32min\u001b[0m \u001b[1;33m[\u001b[0m\u001b[1;33m(\u001b[0m\u001b[1;36m1\u001b[0m\u001b[1;33m,\u001b[0m \u001b[1;33m-\u001b[0m\u001b[1;36m10\u001b[0m\u001b[1;33m)\u001b[0m\u001b[1;33m,\u001b[0m \u001b[1;33m(\u001b[0m\u001b[1;36m1\u001b[0m\u001b[1;33m,\u001b[0m \u001b[1;33m-\u001b[0m\u001b[1;36m2\u001b[0m\u001b[1;33m)\u001b[0m\u001b[1;33m,\u001b[0m \u001b[1;33m(\u001b[0m\u001b[1;36m9\u001b[0m\u001b[1;33m,\u001b[0m \u001b[1;33m-\u001b[0m\u001b[1;36m10\u001b[0m\u001b[1;33m)\u001b[0m\u001b[1;33m]\u001b[0m\u001b[1;33m:\u001b[0m\u001b[1;33m\u001b[0m\u001b[1;33m\u001b[0m\u001b[0m\n\u001b[0;32m      7\u001b[0m         \u001b[0mj2\u001b[0m\u001b[1;33m,\u001b[0m \u001b[0mj1\u001b[0m \u001b[1;33m=\u001b[0m \u001b[0mJs\u001b[0m\u001b[1;33m\u001b[0m\u001b[1;33m\u001b[0m\u001b[0m\n\u001b[1;32m----> 8\u001b[1;33m         \u001b[0mbqm\u001b[0m \u001b[1;33m=\u001b[0m \u001b[0mbqm_frustration1\u001b[0m\u001b[1;33m(\u001b[0m\u001b[0mL\u001b[0m\u001b[1;33m,\u001b[0m \u001b[0mj1\u001b[0m\u001b[1;33m,\u001b[0m \u001b[0mj2\u001b[0m\u001b[1;33m)\u001b[0m\u001b[1;33m\u001b[0m\u001b[1;33m\u001b[0m\u001b[0m\n\u001b[0m\u001b[0;32m      9\u001b[0m         \u001b[0msampleset\u001b[0m \u001b[1;33m=\u001b[0m \u001b[0msampler\u001b[0m\u001b[1;33m.\u001b[0m\u001b[0msample\u001b[0m\u001b[1;33m(\u001b[0m\u001b[0mbqm\u001b[0m\u001b[1;33m,\u001b[0m \u001b[0mnum_reads\u001b[0m\u001b[1;33m=\u001b[0m\u001b[1;36m500\u001b[0m\u001b[1;33m)\u001b[0m \u001b[1;31m#chain_strenght=5\u001b[0m\u001b[1;33m\u001b[0m\u001b[1;33m\u001b[0m\u001b[0m\n\u001b[0;32m     10\u001b[0m \u001b[1;33m\u001b[0m\u001b[0m\n",
      "\u001b[1;31mNameError\u001b[0m: name 'bqm_frustration1' is not defined"
     ]
    }
   ],
   "source": [
    "filename = f\"/1/{ratios.size}_ratio_points.pickle\"\n",
    "\n",
    "if not os.path.isfile(res_path + filename):\n",
    "    results = []\n",
    "\n",
    "    for Js in [(1, -10), (1, -2), (9, -10)]:\n",
    "        j2, j1 = Js    \n",
    "        bqm = bqm_frustration1(L, j1, j2)\n",
    "        sampleset = sampler.sample(bqm, num_reads=500) #chain_strenght=5\n",
    "        \n",
    "        results.append(sampleset)\n",
    "    \n",
    "    Magnetizations = []\n",
    "    Frequencies = []\n",
    "    Energies = []\n",
    "\n",
    "    for result in results: \n",
    "        M, f, E = [], [], []\n",
    "        for record in result.record:\n",
    "            M_mean = np.abs(record[0].mean())\n",
    "            M.append(M_mean)\n",
    "            f.append(record[2])\n",
    "            E.append(record[1])\n",
    "        Magnetizations.append(M)\n",
    "        Frequencies.append(f)\n",
    "        Energies.append(E)\n",
    "\n",
    "    with open(res_path + filename, \"wb\") as file:\n",
    "        pickle.dump([Magnetizations, Energies, Frequencies] , file)\n",
    "else:\n",
    "    with open(res_path + filename, \"rb\") as file:\n",
    "        Magnetizations, Energies, Frequencies = pickle.load(file)"
   ]
  },
  {
   "cell_type": "markdown",
   "metadata": {},
   "source": [
    "## Creating transition phase graph"
   ]
  },
  {
   "cell_type": "code",
   "execution_count": 16,
   "metadata": {},
   "outputs": [],
   "source": [
    "n = len(Magnetizations)\n",
    "\n",
    "Mag = []\n",
    "Chi = []\n",
    "\n",
    "for i in range(n):\n",
    "    M = np.array(Magnetizations[i])\n",
    "    F = np.array(Frequencies[i])\n",
    "    \n",
    "    M_mean = (M * F).sum() / F.sum()\n",
    "    C = ((M - M_mean)**2 * F).sum() / F.sum()\n",
    "    Mag.append(M_mean)\n",
    "    Chi.append(C)"
   ]
  },
  {
   "cell_type": "code",
   "execution_count": 22,
   "metadata": {},
   "outputs": [
    {
     "data": {
      "text/plain": [
       "Text(0, 0.5, '|M|')"
      ]
     },
     "execution_count": 22,
     "metadata": {},
     "output_type": "execute_result"
    },
    {
     "data": {
      "image/png": "[encoded data removed]",
      "text/plain": [
       "<Figure size 432x288 with 1 Axes>"
      ]
     },
     "metadata": {
      "needs_background": "light"
     },
     "output_type": "display_data"
    }
   ],
   "source": [
    "plt.plot(np.abs(ratios), Mag)\n",
    "plt.xlabel(r'$J_2$/$J_1$')\n",
    "plt.ylabel('|M|')"
   ]
  },
  {
   "cell_type": "code",
   "execution_count": 26,
   "metadata": {},
   "outputs": [
    {
     "data": {
      "text/plain": [
       "Text(0, 0.5, '$\\\\chi$')"
      ]
     },
     "execution_count": 26,
     "metadata": {},
     "output_type": "execute_result"
    },
    {
     "data": {
      "image/png": "[encoded data removed]",
      "text/plain": [
       "<Figure size 432x288 with 1 Axes>"
      ]
     },
     "metadata": {
      "needs_background": "light"
     },
     "output_type": "display_data"
    }
   ],
   "source": [
    "plt.plot(np.abs(ratios), Chi)\n",
    "plt.xlabel(r'$J_2$/$J_1$')\n",
    "plt.ylabel(r'$\\chi$')"
   ]
  },
  {
   "cell_type": "code",
   "execution_count": null,
   "metadata": {},
   "outputs": [
    {
     "ename": "NameError",
     "evalue": "name 'nx' is not defined",
     "output_type": "error",
     "traceback": [
      "\u001b[1;31m---------------------------------------------------------------------------\u001b[0m",
      "\u001b[1;31mNameError\u001b[0m                                 Traceback (most recent call last)",
      "\u001b[1;32m~\\AppData\\Local\\Temp/ipykernel_11468/3441557942.py\u001b[0m in \u001b[0;36m<module>\u001b[1;34m\u001b[0m\n\u001b[0;32m      3\u001b[0m \u001b[0mperiodic\u001b[0m \u001b[1;33m=\u001b[0m \u001b[1;32mTrue\u001b[0m\u001b[1;33m\u001b[0m\u001b[1;33m\u001b[0m\u001b[0m\n\u001b[0;32m      4\u001b[0m \u001b[1;33m\u001b[0m\u001b[0m\n\u001b[1;32m----> 5\u001b[1;33m \u001b[0mC_G\u001b[0m \u001b[1;33m=\u001b[0m \u001b[0mnx\u001b[0m\u001b[1;33m.\u001b[0m\u001b[0mgrid_graph\u001b[0m\u001b[1;33m(\u001b[0m\u001b[0mdim\u001b[0m\u001b[1;33m=\u001b[0m\u001b[0mLattice_Size\u001b[0m\u001b[1;33m,\u001b[0m \u001b[0mperiodic\u001b[0m\u001b[1;33m=\u001b[0m\u001b[0mperiodic\u001b[0m\u001b[1;33m)\u001b[0m\u001b[1;33m\u001b[0m\u001b[1;33m\u001b[0m\u001b[0m\n\u001b[0m\u001b[0;32m      6\u001b[0m \u001b[1;33m\u001b[0m\u001b[0m\n\u001b[0;32m      7\u001b[0m \u001b[1;32mfor\u001b[0m \u001b[0mx\u001b[0m \u001b[1;32min\u001b[0m \u001b[0mrange\u001b[0m\u001b[1;33m(\u001b[0m\u001b[1;36m1\u001b[0m\u001b[1;33m,\u001b[0m \u001b[0mL\u001b[0m\u001b[1;33m-\u001b[0m\u001b[1;36m1\u001b[0m\u001b[1;33m)\u001b[0m\u001b[1;33m:\u001b[0m\u001b[1;33m\u001b[0m\u001b[1;33m\u001b[0m\u001b[0m\n",
      "\u001b[1;31mNameError\u001b[0m: name 'nx' is not defined"
     ]
    }
   ],
   "source": [
    "L = 20\n",
    "Lattice_Size = (L, L)\n",
    "periodic = True\n",
    "\n",
    "C_G = nx.grid_graph(dim=Lattice_Size, periodic=periodic)\n",
    "\n",
    "for x in range(1, L-1):\n",
    "    for y in range(1, L-1):\n",
    "        # diagonals on right\n",
    "        x1, y1 = x+1, y+1\n",
    "        C_G.add_edge((x, y), (x1, y1))\n",
    "        \n",
    "        x1, y1 = x-1, y+1\n",
    "        C_G.add_edge((x, y), (x1, y1))\n",
    "        \n",
    "        # diagonals on left\n",
    "        x1, y1 = x+1, y-1\n",
    "        C_G.add_edge((x, y), (x1, y1))\n",
    "        \n",
    "        x1, y1 = x-1, y-1\n",
    "        C_G.add_edge((x, y), (x1, y1))"
   ]
  },
  {
   "cell_type": "code",
   "execution_count": null,
   "metadata": {},
   "outputs": [
    {
     "ename": "NameError",
     "evalue": "name 'nx' is not defined",
     "output_type": "error",
     "traceback": [
      "\u001b[1;31m---------------------------------------------------------------------------\u001b[0m",
      "\u001b[1;31mNameError\u001b[0m                                 Traceback (most recent call last)",
      "\u001b[1;32m~\\AppData\\Local\\Temp/ipykernel_11468/419393246.py\u001b[0m in \u001b[0;36m<module>\u001b[1;34m\u001b[0m\n\u001b[1;32m----> 1\u001b[1;33m \u001b[0mnx\u001b[0m\u001b[1;33m.\u001b[0m\u001b[0mdraw\u001b[0m\u001b[1;33m(\u001b[0m\u001b[0mG\u001b[0m\u001b[1;33m=\u001b[0m\u001b[0mC_G\u001b[0m\u001b[1;33m,\u001b[0m \u001b[0mnode_size\u001b[0m\u001b[1;33m=\u001b[0m\u001b[1;36m10\u001b[0m\u001b[1;33m)\u001b[0m\u001b[1;33m\u001b[0m\u001b[1;33m\u001b[0m\u001b[0m\n\u001b[0m",
      "\u001b[1;31mNameError\u001b[0m: name 'nx' is not defined"
     ]
    }
   ],
   "source": [
    "nx.draw(G=C_G, node_size=10)"
   ]
  },
  {
   "cell_type": "code",
   "execution_count": null,
   "metadata": {},
   "outputs": [],
   "source": []
  }
 ],
 "metadata": {
  "interpreter": {
   "hash": "9bec9a4fae84d278cecf29348292e5365ba4299e5d55caa00177d12a99bb9320"
  },
  "kernelspec": {
   "display_name": "Python 3.9.6 64-bit",
   "language": "python",
   "name": "python3"
  },
  "language_info": {
   "codemirror_mode": {
    "name": "ipython",
    "version": 3
   },
   "file_extension": ".py",
   "mimetype": "text/x-python",
   "name": "python",
   "nbconvert_exporter": "python",
   "pygments_lexer": "ipython3",
   "version": "3.9.6"
  },
  "orig_nbformat": 4
 },
 "nbformat": 4,
 "nbformat_minor": 2
}
