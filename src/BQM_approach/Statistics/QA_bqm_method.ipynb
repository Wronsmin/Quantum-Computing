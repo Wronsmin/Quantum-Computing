{
 "cells": [
  {
   "cell_type": "markdown",
   "metadata": {},
   "source": [
    "## Codice usando i dati presenti nel  [paper(pag 18, paragrafo 4.2)](https://drive.google.com/file/d/1YBFS7FW81_pyuryAb5ISiofgLkT7Gp-P/view?usp=sharing)."
   ]
  },
  {
   "cell_type": "code",
   "execution_count": 1,
   "metadata": {},
   "outputs": [],
   "source": [
    "import networkx as nx\n",
    "import matplotlib.pyplot as plt\n",
    "import sys\n",
    "sys.path.append('../../../library/')\n",
    "from utils import *\n",
    "import numpy as np \n",
    "from dwave.system import DWaveSampler, EmbeddingComposite, DWaveCliqueSampler\n",
    "import dimod\n",
    "import dwave.inspector\n",
    "import pickle"
   ]
  },
  {
   "cell_type": "code",
   "execution_count": 2,
   "metadata": {},
   "outputs": [],
   "source": [
    "mu0 = 0.2\n",
    "var0 = 1\n",
    "\n",
    "x = np.array([-2.296, -0.216, -0.082, 0.231, 1.127, 1.164, 1.189, 1.236, 1.272, 1.373])"
   ]
  },
  {
   "cell_type": "code",
   "execution_count": 3,
   "metadata": {},
   "outputs": [],
   "source": [
    "Nodes = [f'a{i}' for i in range(-7, 2)] + [f'b{i}' for i in range(-7, 2)]\n",
    "\n",
    "C_G = nx.complete_graph(Nodes)"
   ]
  },
  {
   "cell_type": "code",
   "execution_count": 4,
   "metadata": {},
   "outputs": [],
   "source": [
    "bqm = dimod.BinaryQuadraticModel.empty(dimod.BINARY)\n",
    "\n",
    "node_bias = []\n",
    "\n",
    "for i, node in enumerate(C_G.nodes):\n",
    "    if node[0] == 'a':\n",
    "        p = int(node[1:])\n",
    "        w = -np.sum(2**p * fA(x, mu0, var0) + (2**(2*p - 1) - 2**p*mu0)*fAA(var0) - 2**p*var0*fAB(x, mu0, var0))\n",
    "        \n",
    "        node_bias.append(w)\n",
    "        bqm.add_variable(v=node, bias=w)\n",
    "    else:\n",
    "        p = int(node[1:])\n",
    "        w = -np.sum(2**p * fB(x, mu0, var0) + (2**(2*p - 1) - 2**p*var0)*fBB(x, mu0, var0) - 2**p*var0*fAB(x, mu0, var0))\n",
    "        \n",
    "        node_bias.append(w)\n",
    "        bqm.add_variable(v=node, bias=w)"
   ]
  },
  {
   "cell_type": "code",
   "execution_count": 5,
   "metadata": {},
   "outputs": [
    {
     "data": {
      "text/plain": [
       "(array([ 2.,  0.,  0.,  1.,  0.,  0.,  1.,  0.,  3., 11.]),\n",
       " array([-38.11778   , -34.31456054, -30.51134109, -26.70812163,\n",
       "        -22.90490218, -19.10168272, -15.29846327, -11.49524381,\n",
       "         -7.69202436,  -3.8888049 ,  -0.08558545]),\n",
       " <BarContainer object of 10 artists>)"
      ]
     },
     "execution_count": 5,
     "metadata": {},
     "output_type": "execute_result"
    },
    {
     "data": {
      "image/png": "[encoded data removed]",
      "text/plain": [
       "<Figure size 432x288 with 1 Axes>"
      ]
     },
     "metadata": {
      "needs_background": "light"
     },
     "output_type": "display_data"
    }
   ],
   "source": [
    "plt.hist(node_bias)"
   ]
  },
  {
   "cell_type": "code",
   "execution_count": 6,
   "metadata": {},
   "outputs": [],
   "source": [
    "A = []\n",
    "B = []\n",
    "AB = []\n",
    "\n",
    "link_A, link_B, link_AB = 0, 0, 0\n",
    "eps_A = 0\n",
    "eps_B = 0\n",
    "eps_AB = 10000\n",
    "\n",
    "for edge in C_G.edges:\n",
    "    node1, node2 = edge\n",
    "    if node1[0] == node2[0] == 'a':\n",
    "        pi = int(node1[1:])\n",
    "        pj = int(node2[1:])\n",
    "        w = -2**(pi+pj)*fAA(var0)\n",
    "        \n",
    "        #w = np.sqrt(w)\n",
    "        if w > eps_A:\n",
    "            link_A += 1\n",
    "            A.append(w)\n",
    "            bqm.add_interaction(node1, node2, w)\n",
    "            \n",
    "    elif node1[0] == node2[0] == 'b':\n",
    "        pi = int(node1[1:])\n",
    "        pj = int(node2[1:])\n",
    "        w = -np.sum(2**(pi+pj)*fBB(x, mu0, var0))\n",
    "        \n",
    "        #w = np.sqrt(w)\n",
    "        if w > eps_B:\n",
    "            link_B += 1\n",
    "            B.append(w)\n",
    "            bqm.add_interaction(node1, node2, w)\n",
    "            \n",
    "    else:\n",
    "        pi = int(node1[1:])\n",
    "        pj = int(node2[1:])\n",
    "        w = -np.sum(2**(pi+pj)*fAB(x, mu0, var0))\n",
    "        \n",
    "        #w = np.sqrt(w)\n",
    "        if w < eps_AB:    \n",
    "            link_AB += 1\n",
    "            AB.append(w)\n",
    "            bqm.add_interaction(node1, node2, w)"
   ]
  },
  {
   "cell_type": "code",
   "execution_count": 7,
   "metadata": {},
   "outputs": [
    {
     "data": {
      "text/plain": [
       "0.0001220703125"
      ]
     },
     "execution_count": 7,
     "metadata": {},
     "output_type": "execute_result"
    }
   ],
   "source": [
    "np.min(A + B +AB)"
   ]
  },
  {
   "cell_type": "code",
   "execution_count": 8,
   "metadata": {},
   "outputs": [
    {
     "data": {
      "image/png": "[encoded data removed]",
      "text/plain": [
       "<Figure size 432x288 with 1 Axes>"
      ]
     },
     "metadata": {
      "needs_background": "light"
     },
     "output_type": "display_data"
    }
   ],
   "source": [
    "plt.hist(AB, bins=10);"
   ]
  },
  {
   "cell_type": "code",
   "execution_count": 9,
   "metadata": {},
   "outputs": [
    {
     "data": {
      "text/plain": [
       "(36, 36, 81, 153)"
      ]
     },
     "execution_count": 9,
     "metadata": {},
     "output_type": "execute_result"
    }
   ],
   "source": [
    "link_A, link_B, link_AB, link_A+link_B+link_AB"
   ]
  },
  {
   "cell_type": "code",
   "execution_count": 10,
   "metadata": {},
   "outputs": [
    {
     "data": {
      "text/plain": [
       "-12.848712000000003"
      ]
     },
     "execution_count": 10,
     "metadata": {},
     "output_type": "execute_result"
    }
   ],
   "source": [
    "np.sum(-(x-mu0)**2/(var0)**2)"
   ]
  },
  {
   "cell_type": "code",
   "execution_count": 11,
   "metadata": {},
   "outputs": [],
   "source": [
    "sampleset = EmbeddingComposite(DWaveSampler()).sample(bqm, num_reads=10000) #chain_strenght=5"
   ]
  },
  {
   "cell_type": "code",
   "execution_count": 14,
   "metadata": {},
   "outputs": [
    {
     "data": {
      "text/plain": [
       "(0.484375, 1.421875)"
      ]
     },
     "execution_count": 14,
     "metadata": {},
     "output_type": "execute_result"
    }
   ],
   "source": [
    "mu, var = 0, 0\n",
    "\n",
    "for key, q in sampleset.first.sample.items():\n",
    "    p = int(key[1:])\n",
    "    if key[0] == 'a':\n",
    "        mu += 2**(p) * q\n",
    "    else:\n",
    "        var += 2**(p) * q\n",
    "        \n",
    "mu, var"
   ]
  },
  {
   "cell_type": "code",
   "execution_count": 15,
   "metadata": {},
   "outputs": [
    {
     "data": {
      "text/plain": [
       "(0.484375, 1.421875)"
      ]
     },
     "execution_count": 15,
     "metadata": {},
     "output_type": "execute_result"
    }
   ],
   "source": [
    "lowest_state = sampleset.lowest().record[0][0]\n",
    "mu, var = 0, 0\n",
    "\n",
    "for i, sol in enumerate(lowest_state):\n",
    "        p = int(sampleset.variables[i][1:])\n",
    "        if sampleset.variables[i][0] == 'a':\n",
    "            mu = mu + 2**(p) * sol\n",
    "        else:\n",
    "            var = var + 2**(p) * sol\n",
    "            \n",
    "mu, var"
   ]
  },
  {
   "cell_type": "code",
   "execution_count": 61,
   "metadata": {},
   "outputs": [],
   "source": [
    "theta = []\n",
    "phi = []\n",
    "energy = []\n",
    "\n",
    "for k, rec in enumerate(sampleset.record):\n",
    "    states = rec[0]\n",
    "    freq = rec[2]\n",
    "    energy += [rec[1]] * freq\n",
    "    \n",
    "    mu = 0\n",
    "    var = 0\n",
    "    for i, sol in enumerate(states):\n",
    "        p = int(sampleset.variables[i][1:])\n",
    "        if sampleset.variables[i][0] == 'a':\n",
    "            mu = mu + 2**(p) * sol\n",
    "        else:\n",
    "            var = var + 2**(p) * sol\n",
    "            \n",
    "    theta += [mu] * freq\n",
    "    phi += [var] * freq"
   ]
  },
  {
   "cell_type": "code",
   "execution_count": 12,
   "metadata": {},
   "outputs": [],
   "source": [
    "theta = []\n",
    "phi = []\n",
    "energy = []\n",
    "f = []\n",
    "\n",
    "for k, rec in enumerate(sampleset.record):\n",
    "    states = rec[0]\n",
    "    f += [rec[2]]\n",
    "    energy += [rec[1]]\n",
    "    \n",
    "    mu = 0\n",
    "    var = 0\n",
    "    for i, sol in enumerate(states):\n",
    "        p = int(sampleset.variables[i][1:])\n",
    "        if sampleset.variables[i][0] == 'a':\n",
    "            mu = mu + 2**(p) * sol\n",
    "        else:\n",
    "            var = var + 2**(p) * sol\n",
    "            \n",
    "    theta += [mu]\n",
    "    phi += [var]"
   ]
  },
  {
   "cell_type": "code",
   "execution_count": 62,
   "metadata": {},
   "outputs": [
    {
     "data": {
      "text/plain": [
       "Text(0.5, 1.0, 'Istogramma Media ($\\\\mu$)')"
      ]
     },
     "execution_count": 62,
     "metadata": {},
     "output_type": "execute_result"
    },
    {
     "data": {
      "image/png": "[encoded data removed]",
      "text/plain": [
       "<Figure size 432x288 with 1 Axes>"
      ]
     },
     "metadata": {
      "needs_background": "light"
     },
     "output_type": "display_data"
    }
   ],
   "source": [
    "plt.hist(theta, bins='auto');\n",
    "plt.xlabel('$\\mu$', fontdict={'fontsize': 15})\n",
    "plt.title('Istogramma Media ($\\mu$)', fontdict={'fontsize':15})\n",
    "plt.savefig('media.png')"
   ]
  },
  {
   "cell_type": "code",
   "execution_count": 21,
   "metadata": {},
   "outputs": [
    {
     "data": {
      "text/plain": [
       "(0.5390625, 0.8515625)"
      ]
     },
     "execution_count": 21,
     "metadata": {},
     "output_type": "execute_result"
    }
   ],
   "source": [
    "theta[np.argmax(f)], phi[np.argmax(f)]"
   ]
  },
  {
   "cell_type": "code",
   "execution_count": 13,
   "metadata": {},
   "outputs": [
    {
     "data": {
      "text/plain": [
       "<BarContainer object of 9271 artists>"
      ]
     },
     "execution_count": 13,
     "metadata": {},
     "output_type": "execute_result"
    },
    {
     "data": {
      "image/png": "[encoded data removed]",
      "text/plain": [
       "<Figure size 432x288 with 1 Axes>"
      ]
     },
     "metadata": {
      "needs_background": "light"
     },
     "output_type": "display_data"
    }
   ],
   "source": [
    "plt.bar(theta, f)"
   ]
  },
  {
   "cell_type": "code",
   "execution_count": 64,
   "metadata": {},
   "outputs": [
    {
     "data": {
      "text/plain": [
       "(0.80600625, 1.36238984375)"
      ]
     },
     "execution_count": 64,
     "metadata": {},
     "output_type": "execute_result"
    }
   ],
   "source": [
    "np.mean(theta), np.mean(phi)"
   ]
  },
  {
   "cell_type": "code",
   "execution_count": 17,
   "metadata": {},
   "outputs": [
    {
     "data": {
      "text/plain": [
       "Text(0.5, 1.0, 'Istogramma Varianza ($\\\\sigma^2$)')"
      ]
     },
     "execution_count": 17,
     "metadata": {},
     "output_type": "execute_result"
    },
    {
     "data": {
      "image/png": "[encoded data removed]",
      "text/plain": [
       "<Figure size 432x288 with 1 Axes>"
      ]
     },
     "metadata": {
      "needs_background": "light"
     },
     "output_type": "display_data"
    }
   ],
   "source": [
    "plt.hist(phi, bins='auto')\n",
    "plt.xlabel('$\\sigma^2$', fontdict={'fontsize': 15})\n",
    "plt.title('Istogramma Varianza ($\\sigma^2$)', fontdict={'fontsize':15})\n",
    "plt.savefig('varianza.png')"
   ]
  },
  {
   "cell_type": "code",
   "execution_count": 18,
   "metadata": {},
   "outputs": [
    {
     "data": {
      "text/plain": [
       "Text(0, 0.5, 'Varianza')"
      ]
     },
     "execution_count": 18,
     "metadata": {},
     "output_type": "execute_result"
    },
    {
     "data": {
      "image/png": "[encoded data removed]",
      "text/plain": [
       "<Figure size 432x288 with 1 Axes>"
      ]
     },
     "metadata": {
      "needs_background": "light"
     },
     "output_type": "display_data"
    }
   ],
   "source": [
    "plt.hist2d(theta, phi);\n",
    "plt.xlabel('Media')\n",
    "plt.ylabel('Varianza')"
   ]
  },
  {
   "cell_type": "code",
   "execution_count": 19,
   "metadata": {},
   "outputs": [
    {
     "data": {
      "image/png": "[encoded data removed]",
      "text/plain": [
       "<Figure size 432x288 with 1 Axes>"
      ]
     },
     "metadata": {
      "needs_background": "light"
     },
     "output_type": "display_data"
    }
   ],
   "source": [
    "plt.hist2d(energy, theta);"
   ]
  },
  {
   "cell_type": "code",
   "execution_count": 20,
   "metadata": {},
   "outputs": [
    {
     "data": {
      "image/png": "[encoded data removed]",
      "text/plain": [
       "<Figure size 432x288 with 1 Axes>"
      ]
     },
     "metadata": {
      "needs_background": "light"
     },
     "output_type": "display_data"
    }
   ],
   "source": [
    "plt.hist2d(energy, phi);"
   ]
  },
  {
   "cell_type": "code",
   "execution_count": 69,
   "metadata": {},
   "outputs": [
    {
     "data": {
      "text/plain": [
       "<matplotlib.collections.PathCollection at 0x172dd4a29d0>"
      ]
     },
     "execution_count": 69,
     "metadata": {},
     "output_type": "execute_result"
    },
    {
     "data": {
      "image/png": "[encoded data removed]",
      "text/plain": [
       "<Figure size 432x288 with 1 Axes>"
      ]
     },
     "metadata": {
      "needs_background": "light"
     },
     "output_type": "display_data"
    }
   ],
   "source": [
    "plt.scatter(energy, theta)"
   ]
  },
  {
   "cell_type": "code",
   "execution_count": 70,
   "metadata": {},
   "outputs": [
    {
     "data": {
      "text/plain": [
       "<matplotlib.collections.PathCollection at 0x172dd4f2160>"
      ]
     },
     "execution_count": 70,
     "metadata": {},
     "output_type": "execute_result"
    },
    {
     "data": {
      "image/png": "[encoded data removed]",
      "text/plain": [
       "<Figure size 432x288 with 1 Axes>"
      ]
     },
     "metadata": {
      "needs_background": "light"
     },
     "output_type": "display_data"
    }
   ],
   "source": [
    "plt.scatter(energy, phi)"
   ]
  },
  {
   "cell_type": "code",
   "execution_count": 71,
   "metadata": {},
   "outputs": [
    {
     "data": {
      "text/plain": [
       "'http://127.0.0.1:18000/?problemId=73271a59-3370-40d0-9d2d-b6d3da9c4e56'"
      ]
     },
     "execution_count": 71,
     "metadata": {},
     "output_type": "execute_result"
    }
   ],
   "source": [
    "dwave.inspector.show(sampleset)"
   ]
  }
 ],
 "metadata": {
  "interpreter": {
   "hash": "72e85bf8702a5531dd105b812468c0bac16632bcd99c74cc9ab556b094ff7be4"
  },
  "kernelspec": {
   "display_name": "Python 3.9.6 64-bit",
   "language": "python",
   "name": "python3"
  },
  "language_info": {
   "codemirror_mode": {
    "name": "ipython",
    "version": 3
   },
   "file_extension": ".py",
   "mimetype": "text/x-python",
   "name": "python",
   "nbconvert_exporter": "python",
   "pygments_lexer": "ipython3",
   "version": "3.9.6"
  },
  "orig_nbformat": 4
 },
 "nbformat": 4,
 "nbformat_minor": 2
}
