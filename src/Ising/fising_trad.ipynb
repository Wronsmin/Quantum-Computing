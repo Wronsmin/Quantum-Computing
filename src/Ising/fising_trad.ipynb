{
 "cells": [
  {
   "cell_type": "code",
   "execution_count": 1,
   "metadata": {},
   "outputs": [],
   "source": [
    "import sys\n",
    "sys.path.append('../../lib/')\n",
    "from frustration_traditional import *\n",
    "import numpy as np"
   ]
  },
  {
   "cell_type": "code",
   "execution_count": 2,
   "metadata": {},
   "outputs": [],
   "source": [
    "L = 20\n",
    "T = 1\n",
    "ratio = 0.9\n",
    "\n",
    "vals = thermalization(L, T, ratio, 0, 10)"
   ]
  },
  {
   "cell_type": "code",
   "execution_count": 3,
   "metadata": {},
   "outputs": [
    {
     "data": {
      "text/plain": [
       "[1,\n",
       " 0.9,\n",
       " 0.001422,\n",
       " 7.774799032772491e-05,\n",
       " 0.0027377484999999997,\n",
       " 0.00012918667779225528,\n",
       " -1.43066149613668]"
      ]
     },
     "execution_count": 3,
     "metadata": {},
     "output_type": "execute_result"
    }
   ],
   "source": [
    "vals"
   ]
  },
  {
   "cell_type": "code",
   "execution_count": 4,
   "metadata": {},
   "outputs": [],
   "source": [
    "N = 1000\n",
    "ratios = np.linspace(0, 1, N)\n",
    "Ts = np.linspace(0.1, 3.5, N)\n",
    "\n",
    "res = transition(L, Ts, ratios, err_runs=10, workers=12)"
   ]
  },
  {
   "cell_type": "code",
   "execution_count": 5,
   "metadata": {},
   "outputs": [
    {
     "data": {
      "text/html": [
       "<div>\n",
       "<style scoped>\n",
       "    .dataframe tbody tr th:only-of-type {\n",
       "        vertical-align: middle;\n",
       "    }\n",
       "\n",
       "    .dataframe tbody tr th {\n",
       "        vertical-align: top;\n",
       "    }\n",
       "\n",
       "    .dataframe thead th {\n",
       "        text-align: right;\n",
       "    }\n",
       "</style>\n",
       "<table border=\"1\" class=\"dataframe\">\n",
       "  <thead>\n",
       "    <tr style=\"text-align: right;\">\n",
       "      <th></th>\n",
       "      <th>T</th>\n",
       "      <th>ratio</th>\n",
       "      <th>M</th>\n",
       "      <th>M_std</th>\n",
       "      <th>X</th>\n",
       "      <th>X_std</th>\n",
       "      <th>U</th>\n",
       "    </tr>\n",
       "  </thead>\n",
       "  <tbody>\n",
       "    <tr>\n",
       "      <th>0</th>\n",
       "      <td>0.1</td>\n",
       "      <td>0.000000</td>\n",
       "      <td>1.000000</td>\n",
       "      <td>0.000000</td>\n",
       "      <td>0.000000</td>\n",
       "      <td>0.000000</td>\n",
       "      <td>0.666667</td>\n",
       "    </tr>\n",
       "    <tr>\n",
       "      <th>1</th>\n",
       "      <td>0.1</td>\n",
       "      <td>0.010101</td>\n",
       "      <td>1.000000</td>\n",
       "      <td>0.000000</td>\n",
       "      <td>0.000000</td>\n",
       "      <td>0.000000</td>\n",
       "      <td>0.666667</td>\n",
       "    </tr>\n",
       "    <tr>\n",
       "      <th>2</th>\n",
       "      <td>0.1</td>\n",
       "      <td>0.020202</td>\n",
       "      <td>1.000000</td>\n",
       "      <td>0.000000</td>\n",
       "      <td>0.000000</td>\n",
       "      <td>0.000000</td>\n",
       "      <td>0.666667</td>\n",
       "    </tr>\n",
       "    <tr>\n",
       "      <th>3</th>\n",
       "      <td>0.1</td>\n",
       "      <td>0.030303</td>\n",
       "      <td>1.000000</td>\n",
       "      <td>0.000000</td>\n",
       "      <td>0.000000</td>\n",
       "      <td>0.000000</td>\n",
       "      <td>0.666667</td>\n",
       "    </tr>\n",
       "    <tr>\n",
       "      <th>4</th>\n",
       "      <td>0.1</td>\n",
       "      <td>0.040404</td>\n",
       "      <td>1.000000</td>\n",
       "      <td>0.000000</td>\n",
       "      <td>0.000000</td>\n",
       "      <td>0.000000</td>\n",
       "      <td>0.666667</td>\n",
       "    </tr>\n",
       "    <tr>\n",
       "      <th>...</th>\n",
       "      <td>...</td>\n",
       "      <td>...</td>\n",
       "      <td>...</td>\n",
       "      <td>...</td>\n",
       "      <td>...</td>\n",
       "      <td>...</td>\n",
       "      <td>...</td>\n",
       "    </tr>\n",
       "    <tr>\n",
       "      <th>9995</th>\n",
       "      <td>3.5</td>\n",
       "      <td>0.959596</td>\n",
       "      <td>0.034049</td>\n",
       "      <td>0.000868</td>\n",
       "      <td>0.075776</td>\n",
       "      <td>0.003875</td>\n",
       "      <td>0.011493</td>\n",
       "    </tr>\n",
       "    <tr>\n",
       "      <th>9996</th>\n",
       "      <td>3.5</td>\n",
       "      <td>0.969697</td>\n",
       "      <td>0.033534</td>\n",
       "      <td>0.000811</td>\n",
       "      <td>0.074228</td>\n",
       "      <td>0.003152</td>\n",
       "      <td>-0.008678</td>\n",
       "    </tr>\n",
       "    <tr>\n",
       "      <th>9997</th>\n",
       "      <td>3.5</td>\n",
       "      <td>0.979798</td>\n",
       "      <td>0.033283</td>\n",
       "      <td>0.000621</td>\n",
       "      <td>0.072039</td>\n",
       "      <td>0.003094</td>\n",
       "      <td>0.002250</td>\n",
       "    </tr>\n",
       "    <tr>\n",
       "      <th>9998</th>\n",
       "      <td>3.5</td>\n",
       "      <td>0.989899</td>\n",
       "      <td>0.033147</td>\n",
       "      <td>0.000760</td>\n",
       "      <td>0.071281</td>\n",
       "      <td>0.002347</td>\n",
       "      <td>0.015073</td>\n",
       "    </tr>\n",
       "    <tr>\n",
       "      <th>9999</th>\n",
       "      <td>3.5</td>\n",
       "      <td>1.000000</td>\n",
       "      <td>0.032962</td>\n",
       "      <td>0.000751</td>\n",
       "      <td>0.071435</td>\n",
       "      <td>0.003410</td>\n",
       "      <td>-0.015217</td>\n",
       "    </tr>\n",
       "  </tbody>\n",
       "</table>\n",
       "<p>10000 rows × 7 columns</p>\n",
       "</div>"
      ],
      "text/plain": [
       "        T     ratio         M     M_std         X     X_std         U\n",
       "0     0.1  0.000000  1.000000  0.000000  0.000000  0.000000  0.666667\n",
       "1     0.1  0.010101  1.000000  0.000000  0.000000  0.000000  0.666667\n",
       "2     0.1  0.020202  1.000000  0.000000  0.000000  0.000000  0.666667\n",
       "3     0.1  0.030303  1.000000  0.000000  0.000000  0.000000  0.666667\n",
       "4     0.1  0.040404  1.000000  0.000000  0.000000  0.000000  0.666667\n",
       "...   ...       ...       ...       ...       ...       ...       ...\n",
       "9995  3.5  0.959596  0.034049  0.000868  0.075776  0.003875  0.011493\n",
       "9996  3.5  0.969697  0.033534  0.000811  0.074228  0.003152 -0.008678\n",
       "9997  3.5  0.979798  0.033283  0.000621  0.072039  0.003094  0.002250\n",
       "9998  3.5  0.989899  0.033147  0.000760  0.071281  0.002347  0.015073\n",
       "9999  3.5  1.000000  0.032962  0.000751  0.071435  0.003410 -0.015217\n",
       "\n",
       "[10000 rows x 7 columns]"
      ]
     },
     "execution_count": 5,
     "metadata": {},
     "output_type": "execute_result"
    }
   ],
   "source": [
    "res"
   ]
  },
  {
   "cell_type": "code",
   "execution_count": 6,
   "metadata": {},
   "outputs": [],
   "source": [
    "U_matrix = np.zeros((N, N))"
   ]
  },
  {
   "cell_type": "code",
   "execution_count": 7,
   "metadata": {},
   "outputs": [],
   "source": [
    "for i in range(N):\n",
    "    U_matrix[i, :] = res[res['T'] == Ts[i]]['U']"
   ]
  },
  {
   "cell_type": "code",
   "execution_count": 8,
   "metadata": {},
   "outputs": [
    {
     "data": {
      "text/plain": [
       "<matplotlib.image.AxesImage at 0x290e42c1720>"
      ]
     },
     "execution_count": 8,
     "metadata": {},
     "output_type": "execute_result"
    },
    {
     "data": {
      "image/png": "[encoded data removed]",
      "text/plain": [
       "<Figure size 640x480 with 1 Axes>"
      ]
     },
     "metadata": {},
     "output_type": "display_data"
    }
   ],
   "source": [
    "import matplotlib.pyplot as plt\n",
    "\n",
    "plt.imshow(U_matrix[::-1, :], vmax=1, vmin=-2)"
   ]
  },
  {
   "cell_type": "code",
   "execution_count": null,
   "metadata": {},
   "outputs": [],
   "source": []
  }
 ],
 "metadata": {
  "kernelspec": {
   "display_name": "Python 3",
   "language": "python",
   "name": "python3"
  },
  "language_info": {
   "codemirror_mode": {
    "name": "ipython",
    "version": 3
   },
   "file_extension": ".py",
   "mimetype": "text/x-python",
   "name": "python",
   "nbconvert_exporter": "python",
   "pygments_lexer": "ipython3",
   "version": "3.10.7 (tags/v3.10.7:6cc6b13, Sep  5 2022, 14:08:36) [MSC v.1933 64 bit (AMD64)]"
  },
  "orig_nbformat": 4,
  "vscode": {
   "interpreter": {
    "hash": "d043bfe52fdbcdd9ce254683947552669d52a2490379de95516b9980b91447e7"
   }
  }
 },
 "nbformat": 4,
 "nbformat_minor": 2
}
