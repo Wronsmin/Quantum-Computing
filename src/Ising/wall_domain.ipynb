{
 "cells": [
  {
   "cell_type": "code",
   "execution_count": 1,
   "metadata": {},
   "outputs": [],
   "source": [
    "import sys\n",
    "import numpy as np\n",
    "import pandas as pd\n",
    "sys.path.append('../../lib/')\n",
    "import matplotlib.pyplot as plt\n",
    "from frustration_graph import *\n",
    "from frustration_traditional import * "
   ]
  },
  {
   "cell_type": "code",
   "execution_count": 2,
   "metadata": {},
   "outputs": [],
   "source": [
    "from dwave.system import DWaveSampler, EmbeddingComposite\n",
    "import dimod\n",
    "import dwave.inspector"
   ]
  },
  {
   "attachments": {},
   "cell_type": "markdown",
   "metadata": {},
   "source": [
    "## Wall CPU"
   ]
  },
  {
   "cell_type": "code",
   "execution_count": 6,
   "metadata": {},
   "outputs": [],
   "source": [
    "L = 20\n",
    "N = 100\n",
    "ratios = np.linspace(0, 1, N)\n",
    "Ts = np.linspace(0.1, 3.5, N)\n",
    "err = 10\n",
    "\n",
    "try:\n",
    "    res = pd.read_csv(f\"../../Results/Ising_Frustrated/Classical/res_wall_{N}x{N}_{err}err.gzip\", compression='gzip')\n",
    "except:\n",
    "    res = transition(L, Ts, ratios, err_runs=err, workers=12)\n",
    "    #res.to_csv(f\"../../Results/Ising_Frustrated/Classical/res_wall_{N}x{N}_{err}err.gzip\", compression='gzip')"
   ]
  },
  {
   "attachments": {},
   "cell_type": "markdown",
   "metadata": {},
   "source": [
    "## Wall QPU"
   ]
  },
  {
   "cell_type": "code",
   "execution_count": 3,
   "metadata": {},
   "outputs": [],
   "source": [
    "L = 20\n",
    "ratio = 0.4\n",
    "num_reads = 20\n",
    "bqm = bqm_frustration(L, ratio, 0)\n",
    "\n",
    "qpu = DWaveSampler()\n",
    "sampler = EmbeddingComposite(qpu)\n",
    "\n",
    "sampleset = sampler.sample(bqm, num_reads=num_reads, annealing_time=900,\n",
    "                            label=f'Ising Frustrated Wall')"
   ]
  },
  {
   "cell_type": "code",
   "execution_count": 4,
   "metadata": {},
   "outputs": [],
   "source": [
    "prova = np.reshape(list(sampleset.first.sample.values()), (L, L))"
   ]
  },
  {
   "cell_type": "code",
   "execution_count": null,
   "metadata": {},
   "outputs": [
    {
     "data": {
      "text/plain": [
       "<matplotlib.image.AxesImage at 0x239d235cb50>"
      ]
     },
     "execution_count": 25,
     "metadata": {},
     "output_type": "execute_result"
    },
    {
     "data": {
      "image/png": "[encoded data removed]",
      "text/plain": [
       "<Figure size 640x480 with 1 Axes>"
      ]
     },
     "metadata": {},
     "output_type": "display_data"
    }
   ],
   "source": [
    "plt.imshow(prova)"
   ]
  },
  {
   "cell_type": "code",
   "execution_count": 5,
   "metadata": {},
   "outputs": [
    {
     "data": {
      "text/plain": [
       "70"
      ]
     },
     "execution_count": 5,
     "metadata": {},
     "output_type": "execute_result"
    }
   ],
   "source": [
    "wall(prova)"
   ]
  },
  {
   "cell_type": "code",
   "execution_count": null,
   "metadata": {},
   "outputs": [],
   "source": []
  }
 ],
 "metadata": {
  "kernelspec": {
   "display_name": "Python 3",
   "language": "python",
   "name": "python3"
  },
  "language_info": {
   "codemirror_mode": {
    "name": "ipython",
    "version": 3
   },
   "file_extension": ".py",
   "mimetype": "text/x-python",
   "name": "python",
   "nbconvert_exporter": "python",
   "pygments_lexer": "ipython3",
   "version": "3.10.7"
  },
  "orig_nbformat": 4,
  "vscode": {
   "interpreter": {
    "hash": "d043bfe52fdbcdd9ce254683947552669d52a2490379de95516b9980b91447e7"
   }
  }
 },
 "nbformat": 4,
 "nbformat_minor": 2
}
