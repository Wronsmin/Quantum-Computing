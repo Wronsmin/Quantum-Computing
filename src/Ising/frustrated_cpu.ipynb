{
 "cells": [
  {
   "cell_type": "code",
   "execution_count": 1,
   "metadata": {},
   "outputs": [],
   "source": [
    "import numpy as np\n",
    "from scipy.signal import convolve2d"
   ]
  },
  {
   "cell_type": "code",
   "execution_count": 2,
   "metadata": {},
   "outputs": [],
   "source": [
    "N = 4\n",
    "lattices = np.tile([[-1, 1], [1, -1]], (N // 2, N // 2))\n",
    "#lattices = np.random.choice([-1, 1], size=[1, 4, 4])\n",
    "J = np.array([1.0, 0.0])"
   ]
  },
  {
   "cell_type": "code",
   "execution_count": 3,
   "metadata": {},
   "outputs": [],
   "source": [
    "def periodic_padding(lattice, padding=1):\n",
    "    '''\n",
    "    Create a periodic padding (wrap) around the lattice, to emulate periodic \n",
    "    boundary conditions\n",
    "    From https://github.com/tensorflow/tensorflow/issues/956, FedericoMuciaccia suggestion\n",
    "    '''\n",
    "\n",
    "    upper_pad = lattice[-padding:, :]\n",
    "    lower_pad = lattice[:padding, :]\n",
    "\n",
    "    partial_lattice = np.concatenate([upper_pad, lattice, \n",
    "                                      lower_pad], axis=0)\n",
    "\n",
    "    left_pad = partial_lattice[:, -padding:]\n",
    "    right_pad = partial_lattice[:, :padding]\n",
    "\n",
    "    padded_lattice = np.concatenate([left_pad, partial_lattice, \n",
    "                                     right_pad], axis=1)\n",
    "\n",
    "    return padded_lattice"
   ]
  },
  {
   "cell_type": "code",
   "execution_count": 4,
   "metadata": {},
   "outputs": [],
   "source": [
    "def Hamiltonian(lattice: np.ndarray, J: np.ndarray,\n",
    "                B: float, periodic: bool = False) -> float:\n",
    "    J1, J2 = J\n",
    "    neighbors = np.array([[0, 1, 0],\n",
    "                          [1, 0, 1],\n",
    "                          [0, 1, 0]])\n",
    "    n_neighbors = np.array([[1, 0, 1],\n",
    "                            [0, 0, 0],\n",
    "                            [1, 0, 1]])\n",
    "\n",
    "    if periodic:\n",
    "        padded = periodic_padding(lattice)\n",
    "        conv1 = convolve2d(padded, neighbors, mode='valid')\n",
    "        conv1 = np.multiply(conv1, lattice) / 2\n",
    "        conv2 = convolve2d(padded, n_neighbors, mode='valid')\n",
    "        conv2 = np.multiply(conv2, lattice) / 2\n",
    "    else:\n",
    "        conv1 = convolve2d(lattice, neighbors, mode='same')\n",
    "        conv1 = np.multiply(conv1, lattice) / 2  # I have to test\n",
    "        conv2 = convolve2d(lattice, neighbors, mode='same')\n",
    "        conv2 = np.multiply(conv2, lattice) / 2  # I have to test\n",
    "\n",
    "    return -J1 * np.sum(conv1) + J2 * np.sum(conv2) - B * np.sum(lattice)"
   ]
  },
  {
   "cell_type": "code",
   "execution_count": 5,
   "metadata": {},
   "outputs": [],
   "source": [
    "def _Metropolis(lattice:np.ndarray, J:np.ndarray, \n",
    "                B: np.float32, T:np.float32, periodic:bool) -> np.ndarray:\n",
    "\n",
    "    J1, J2 = J\n",
    "    neighbors = np.array([[0, 1, 0],\n",
    "                          [1, 0, 1],\n",
    "                          [0, 1, 0]])\n",
    "    n_neighbors = np.array([[1, 0, 1],\n",
    "                            [0, 0, 0],\n",
    "                            [1, 0, 1]])\n",
    "    even_filter = np.zeros(shape=lattice.shape, dtype=bool)\n",
    "    for i in range(lattice.shape[0]):\n",
    "        for j in range(lattice.shape[1]):\n",
    "            even_filter[i, j] = (i+j) % 2 == 0\n",
    "\n",
    "    def delta_energy(lattice):\n",
    "        if periodic:\n",
    "            padded = periodic_padding(lattice)\n",
    "            conv1 = convolve2d(padded, neighbors, mode='valid')\n",
    "            conv1 = np.multiply(conv1, lattice) / 2\n",
    "            \n",
    "            conv2 = convolve2d(padded, n_neighbors, mode='valid')\n",
    "            conv2 = np.multiply(conv2, lattice) / 2\n",
    "        else:\n",
    "            conv1 = convolve2d(lattice, neighbors, mode='same')\n",
    "            conv1 = np.multiply(conv1, lattice) /2  # I have to test\n",
    "            \n",
    "            conv2 = convolve2d(lattice, neighbors, mode='same')\n",
    "            conv2 = np.multiply(conv2, lattice) / 2  # I have to test\n",
    "        \n",
    "        conv = (J1 * conv1 - J2 * conv2 + B * lattice)\n",
    "        \n",
    "        return 2 * conv\n",
    "\n",
    "    delta_even = delta_energy(lattice)\n",
    "    \n",
    "    random = np.random.uniform(size=delta_even.shape)\n",
    "    condition_1 = np.less(delta_even, 0)\n",
    "    condition_2 = np.less(random,\n",
    "                          np.exp(- delta_even / T))\n",
    "    cond = np.logical_or(condition_1, condition_2)\n",
    "    condition = np.logical_and(even_filter, cond)\n",
    "\n",
    "    lattice = np.where(condition, -lattice, lattice)\n",
    "    delta_odd = delta_energy(lattice)\n",
    "\n",
    "    condition_1 = np.less(delta_odd, 0)\n",
    "    condition_2 = np.less(random,\n",
    "                          np.exp(- delta_odd / T))\n",
    "    cond = np.logical_or(condition_1, condition_2)\n",
    "    condition = np.logical_and(np.logical_not(even_filter), cond)\n",
    "\n",
    "    return np.where(condition, -lattice, lattice)"
   ]
  },
  {
   "cell_type": "code",
   "execution_count": 14,
   "metadata": {},
   "outputs": [
    {
     "name": "stdout",
     "output_type": "stream",
     "text": [
      "[[-1  1 -1  1 -1  1 -1  1]\n",
      " [ 1 -1  1 -1  1 -1  1 -1]\n",
      " [-1  1 -1  1 -1  1 -1  1]\n",
      " [ 1 -1  1 -1  1 -1  1 -1]\n",
      " [-1  1 -1  1 -1  1 -1  1]\n",
      " [ 1 -1  1 -1  1 -1  1 -1]\n",
      " [-1  1 -1  1 -1  1 -1  1]\n",
      " [ 1 -1  1 -1  1 -1  1 -1]]\n"
     ]
    },
    {
     "data": {
      "text/plain": [
       "(array([[-1,  1, -1, -1, -1, -1, -1, -1],\n",
       "        [ 1,  1,  1, -1, -1, -1, -1, -1],\n",
       "        [ 1,  1,  1,  1, -1, -1, -1,  1],\n",
       "        [ 1,  1,  1,  1,  1, -1,  1,  1],\n",
       "        [ 1,  1,  1,  1, -1, -1, -1,  1],\n",
       "        [ 1,  1,  1, -1, -1, -1, -1, -1],\n",
       "        [-1,  1, -1, -1, -1, -1, -1, -1],\n",
       "        [-1, -1, -1, -1, -1, -1, -1, -1]]),\n",
       " -0.21875)"
      ]
     },
     "execution_count": 14,
     "metadata": {},
     "output_type": "execute_result"
    }
   ],
   "source": [
    "N = 8\n",
    "n_sim = 1\n",
    "lattices = np.tile([[-1, 1], [1, -1]], (n_sim, N // 2, N // 2))\n",
    "#lattices = np.ones(shape=(n_sim, N, N))\n",
    "J = np.array([1.0, 0.9])\n",
    "\n",
    "print(lattices[0])\n",
    "\n",
    "for time in range(2000):\n",
    "    for ensamble in range(lattices.shape[0]):\n",
    "        lattices[ensamble] = _Metropolis(lattices[ensamble], J, 0.0, 0.1, True)\n",
    "        \n",
    "lattices[0], lattices[0].mean()"
   ]
  },
  {
   "cell_type": "code",
   "execution_count": 15,
   "metadata": {},
   "outputs": [
    {
     "data": {
      "text/plain": [
       "<matplotlib.image.AxesImage at 0x140caa9a0>"
      ]
     },
     "execution_count": 15,
     "metadata": {},
     "output_type": "execute_result"
    },
    {
     "data": {
      "image/png": "[encoded data removed]",
      "text/plain": [
       "<Figure size 432x288 with 1 Axes>"
      ]
     },
     "metadata": {
      "needs_background": "light"
     },
     "output_type": "display_data"
    }
   ],
   "source": [
    "import matplotlib.pyplot as plt\n",
    "\n",
    "plt.imshow(lattices[0])"
   ]
  },
  {
   "cell_type": "code",
   "execution_count": 16,
   "metadata": {},
   "outputs": [
    {
     "data": {
      "text/plain": [
       "0.21875"
      ]
     },
     "execution_count": 16,
     "metadata": {},
     "output_type": "execute_result"
    }
   ],
   "source": [
    "np.abs(lattices.mean(axis=(1, 2))).mean()"
   ]
  },
  {
   "cell_type": "code",
   "execution_count": 17,
   "metadata": {},
   "outputs": [
    {
     "data": {
      "text/plain": [
       "array([1.        , 0.6       , 0.42857143, 0.33333333, 0.27272727,\n",
       "       0.23076923, 0.2       , 0.17647059, 0.15789474, 0.14285714])"
      ]
     },
     "execution_count": 17,
     "metadata": {},
     "output_type": "execute_result"
    }
   ],
   "source": [
    "1 / np.linspace(1, 7, 10)"
   ]
  },
  {
   "cell_type": "code",
   "execution_count": null,
   "metadata": {},
   "outputs": [],
   "source": []
  }
 ],
 "metadata": {
  "kernelspec": {
   "display_name": "Python 3.9.13 ('base')",
   "language": "python",
   "name": "python3"
  },
  "language_info": {
   "codemirror_mode": {
    "name": "ipython",
    "version": 3
   },
   "file_extension": ".py",
   "mimetype": "text/x-python",
   "name": "python",
   "nbconvert_exporter": "python",
   "pygments_lexer": "ipython3",
   "version": "3.9.13"
  },
  "orig_nbformat": 4,
  "vscode": {
   "interpreter": {
    "hash": "c6e4e9f98eb68ad3b7c296f83d20e6de614cb42e90992a65aa266555a3137d0d"
   }
  }
 },
 "nbformat": 4,
 "nbformat_minor": 2
}
