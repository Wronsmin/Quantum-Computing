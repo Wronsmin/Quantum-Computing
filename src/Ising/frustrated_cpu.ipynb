{
 "cells": [
  {
   "cell_type": "code",
   "execution_count": 67,
   "metadata": {},
   "outputs": [],
   "source": [
    "import numpy as np\n",
    "from scipy.signal import convolve2d"
   ]
  },
  {
   "cell_type": "code",
   "execution_count": 68,
   "metadata": {},
   "outputs": [],
   "source": [
    "lattices = np.random.choice([-1, 1], size=[1, 4, 4])\n",
    "J = np.array([1.0, 0.0])"
   ]
  },
  {
   "cell_type": "code",
   "execution_count": 69,
   "metadata": {},
   "outputs": [],
   "source": [
    "def periodic_padding(lattice, padding=1):\n",
    "    '''\n",
    "    Create a periodic padding (wrap) around the lattice, to emulate periodic \n",
    "    boundary conditions\n",
    "    From https://github.com/tensorflow/tensorflow/issues/956, FedericoMuciaccia suggestion\n",
    "    '''\n",
    "\n",
    "    upper_pad = lattice[-padding:, :]\n",
    "    lower_pad = lattice[:padding, :]\n",
    "\n",
    "    partial_lattice = np.concatenate([upper_pad, lattice, \n",
    "                                      lower_pad], axis=0)\n",
    "\n",
    "    left_pad = partial_lattice[:, -padding:]\n",
    "    right_pad = partial_lattice[:, :padding]\n",
    "\n",
    "    padded_lattice = np.concatenate([left_pad, partial_lattice, \n",
    "                                     right_pad], axis=1)\n",
    "\n",
    "    return padded_lattice"
   ]
  },
  {
   "cell_type": "code",
   "execution_count": 70,
   "metadata": {},
   "outputs": [],
   "source": [
    "def Hamiltonian(lattice: np.ndarray, J: np.ndarray,\n",
    "                B: float, periodic: bool = False) -> float:\n",
    "    J1, J2 = J\n",
    "    neighbors = np.array([[0, 1, 0],\n",
    "                          [1, 0, 1],\n",
    "                          [0, 1, 0]])\n",
    "    n_neighbors = np.array([[1, 0, 1],\n",
    "                            [0, 0, 0],\n",
    "                            [1, 0, 1]])\n",
    "\n",
    "    if periodic:\n",
    "        padded = periodic_padding(lattice)\n",
    "        conv1 = convolve2d(padded, neighbors, mode='valid')\n",
    "        conv1 = np.multiply(conv1, lattice) / 2\n",
    "        conv2 = convolve2d(padded, n_neighbors, mode='valid')\n",
    "        conv2 = np.multiply(conv2, lattice) / 2\n",
    "    else:\n",
    "        conv1 = convolve2d(lattice, neighbors, mode='same')\n",
    "        conv1 = np.multiply(conv1, lattice) / 2  # I have to test\n",
    "        conv2 = convolve2d(lattice, neighbors, mode='same')\n",
    "        conv2 = np.multiply(conv2, lattice) / 2  # I have to test\n",
    "\n",
    "    return -J1 * np.sum(conv1) + J2 * np.sum(conv2) - B * np.sum(lattice)"
   ]
  },
  {
   "cell_type": "code",
   "execution_count": 190,
   "metadata": {},
   "outputs": [],
   "source": [
    "def _Metropolis(lattice:np.ndarray, J:np.ndarray, \n",
    "                B: np.float32, T:np.float32, periodic:bool) -> np.ndarray:\n",
    "\n",
    "    J1, J2 = J\n",
    "    neighbors = np.array([[0, 1, 0],\n",
    "                          [1, 0, 1],\n",
    "                          [0, 1, 0]])\n",
    "    n_neighbors = np.array([[1, 0, 1],\n",
    "                            [0, 0, 0],\n",
    "                            [1, 0, 1]])\n",
    "    even_filter = np.zeros(shape=lattice.shape, dtype=bool)\n",
    "    for i in range(lattice.shape[0]):\n",
    "        for j in range(lattice.shape[1]):\n",
    "            even_filter[i, j] = (i+j) % 2 == 0\n",
    "\n",
    "    def delta_energy(lattice):\n",
    "        if periodic:\n",
    "            padded = periodic_padding(lattice)\n",
    "            conv1 = convolve2d(padded, neighbors, mode='valid')\n",
    "            conv1 = np.multiply(conv1, lattice) / 2\n",
    "            conv2 = convolve2d(padded, n_neighbors, mode='valid')\n",
    "            conv2 = np.multiply(conv2, lattice) / 2\n",
    "        else:\n",
    "            conv1 = convolve2d(lattice, neighbors, mode='same')\n",
    "            conv1 = np.multiply(conv1, lattice) /2  # I have to test\n",
    "            \n",
    "            conv2 = convolve2d(lattice, neighbors, mode='same')\n",
    "            conv2 = np.multiply(conv2, lattice) / 2  # I have to test\n",
    "        \n",
    "        conv = (-J1 * conv1 + J2 * conv2 - B * lattice)\n",
    "        \n",
    "        return -2*conv\n",
    "\n",
    "    delta_even = delta_energy(lattice)\n",
    "    \n",
    "    random = np.random.uniform(size=delta_even.shape)\n",
    "    condition_1 = np.less(delta_even, 0)\n",
    "    condition_2 = np.less(random,\n",
    "                          np.exp(-delta_even / T))\n",
    "    cond = np.logical_or(condition_1, condition_2)\n",
    "    condition = np.logical_and(even_filter, cond)\n",
    "\n",
    "    lattice = np.where(condition, -lattice, lattice)\n",
    "    delta_odd = delta_energy(lattice)\n",
    "\n",
    "    condition_1 = np.less(delta_odd, 0)\n",
    "    condition_2 = np.less(random,\n",
    "                          np.exp(-delta_odd / T))\n",
    "    cond = np.logical_or(condition_1, condition_2)\n",
    "    condition = np.logical_and(np.logical_not(even_filter), cond)\n",
    "\n",
    "    return np.where(condition, -lattice, lattice)"
   ]
  },
  {
   "cell_type": "code",
   "execution_count": 203,
   "metadata": {},
   "outputs": [
    {
     "name": "stdout",
     "output_type": "stream",
     "text": [
      "[[ 1  1  1 -1 -1  1  1  1]\n",
      " [-1 -1 -1 -1 -1  1  1 -1]\n",
      " [-1  1  1 -1 -1  1  1 -1]\n",
      " [-1  1 -1 -1 -1  1 -1  1]\n",
      " [ 1  1  1 -1  1 -1 -1 -1]\n",
      " [-1  1  1  1 -1  1 -1  1]\n",
      " [-1  1  1  1  1  1 -1  1]\n",
      " [-1 -1  1 -1 -1 -1 -1 -1]]\n"
     ]
    },
    {
     "data": {
      "text/plain": [
       "(array([[ 1, -1, -1, -1, -1, -1, -1, -1],\n",
       "        [-1, -1, -1, -1, -1, -1, -1, -1],\n",
       "        [-1, -1, -1, -1, -1, -1, -1, -1],\n",
       "        [-1, -1, -1, -1, -1, -1, -1, -1],\n",
       "        [-1, -1, -1, -1, -1, -1, -1, -1],\n",
       "        [-1, -1, -1, -1, -1, -1, -1, -1],\n",
       "        [-1, -1, -1, -1, -1, -1, -1, -1],\n",
       "        [-1, -1, -1, -1, -1, -1, -1, -1]]),\n",
       " -0.96875)"
      ]
     },
     "execution_count": 203,
     "metadata": {},
     "output_type": "execute_result"
    }
   ],
   "source": [
    "lattices = np.random.choice([-1, 1], size=[1, 8, 8])\n",
    "J = np.array([-1.0, 0.0])\n",
    "print(lattices[0])\n",
    "\n",
    "for time in range(1000):\n",
    "    for ensamble in range(lattices.shape[0]):\n",
    "        lattices[ensamble] = _Metropolis(lattices[ensamble], J, 0.0, 1, False)\n",
    "        \n",
    "lattices[0], lattices[0].mean()"
   ]
  },
  {
   "cell_type": "code",
   "execution_count": 143,
   "metadata": {},
   "outputs": [],
   "source": [
    "lattice = np.array([[-1, -1,  1, -1],\n",
    "                    [-1,  1,  1, -1],\n",
    "                    [ 1,  1,  1,  1],\n",
    "                    [-1,  1, -1, -1]])\n",
    "J = np.array([-1.0, 0.9])"
   ]
  },
  {
   "cell_type": "code",
   "execution_count": 144,
   "metadata": {},
   "outputs": [
    {
     "data": {
      "text/plain": [
       "array([[-1, -1, -1,  1],\n",
       "       [-1, -1, -1,  1],\n",
       "       [-1, -1,  1,  1],\n",
       "       [-1, -1,  1,  1]])"
      ]
     },
     "execution_count": 144,
     "metadata": {},
     "output_type": "execute_result"
    }
   ],
   "source": [
    "_Metropolis(lattice, J, 0.0, 0.5, False)"
   ]
  },
  {
   "cell_type": "code",
   "execution_count": null,
   "metadata": {},
   "outputs": [],
   "source": []
  }
 ],
 "metadata": {
  "kernelspec": {
   "display_name": "Python 3.9.13 ('base')",
   "language": "python",
   "name": "python3"
  },
  "language_info": {
   "codemirror_mode": {
    "name": "ipython",
    "version": 3
   },
   "file_extension": ".py",
   "mimetype": "text/x-python",
   "name": "python",
   "nbconvert_exporter": "python",
   "pygments_lexer": "ipython3",
   "version": "3.9.13"
  },
  "orig_nbformat": 4,
  "vscode": {
   "interpreter": {
    "hash": "c6e4e9f98eb68ad3b7c296f83d20e6de614cb42e90992a65aa266555a3137d0d"
   }
  }
 },
 "nbformat": 4,
 "nbformat_minor": 2
}
