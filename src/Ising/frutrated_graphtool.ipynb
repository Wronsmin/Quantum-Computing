{
 "cells": [
  {
   "cell_type": "code",
   "execution_count": 1,
   "metadata": {},
   "outputs": [
    {
     "name": "stderr",
     "output_type": "stream",
     "text": [
      "Unable to init server: Could not connect: Connection refused\n",
      "Unable to init server: Could not connect: Connection refused\n"
     ]
    }
   ],
   "source": [
    "import numpy as np\n",
    "import graph_tool.all as gt"
   ]
  },
  {
   "cell_type": "code",
   "execution_count": 2,
   "metadata": {},
   "outputs": [],
   "source": [
    "L = 20\n",
    "J1 = 1\n",
    "ratio = -0.9\n",
    "J2 = ratio * np.abs(J1)\n",
    "g = gt.lattice([L, L], periodic=False)"
   ]
  },
  {
   "cell_type": "code",
   "execution_count": 3,
   "metadata": {},
   "outputs": [],
   "source": [
    "weights = {}\n",
    "\n",
    "edges = [(*edge, J1) for edge in g.get_edges().tolist()]\n",
    "\n",
    "indices = g.get_vertices().reshape([L, L])\n",
    "for x in range(L-1):\n",
    "    for y in range(L-1):\n",
    "        # diagonals on right\n",
    "        edges.append((*indices[[x, x+1], [y, y+1]], J2))\n",
    "        edges.append((*indices[[x+1, x], [y, y+1]], J2))"
   ]
  },
  {
   "cell_type": "code",
   "execution_count": 4,
   "metadata": {},
   "outputs": [],
   "source": [
    "pos = []\n",
    "for x in range(L):\n",
    "    for y in range(L):\n",
    "        pos.append([x, y])\n",
    "\n",
    "pos = np.array(pos)"
   ]
  },
  {
   "cell_type": "code",
   "execution_count": 88,
   "metadata": {},
   "outputs": [],
   "source": [
    "epochs = 2000\n",
    "n_errors = 100\n",
    "g = gt.Graph(directed=False)\n",
    "weights = g.new_ep(\"double\")\n",
    "\n",
    "g.add_edge_list(edges, eprops=[weights])\n",
    "pos = g.new_vertex_property(\"vector<double>\", pos)\n",
    "\n",
    "T = 0.5\n",
    "Mag = np.zeros(n_errors)\n",
    "X = np.zeros(n_errors)\n",
    "for i in range(n_errors):\n",
    "    M = []\n",
    "    state = gt.IsingMetropolisState(g, beta=1/T, w=weights)\n",
    "    state.iterate_async(niter=1000)\n",
    "    for e in range(epochs):\n",
    "        state.iterate_async(niter=g.num_vertices())\n",
    "        M.append(np.abs(state.s.fa.mean()))\n",
    "        \n",
    "    Mag[i] = np.mean(M)\n",
    "    X[i] = np.var(M)"
   ]
  },
  {
   "cell_type": "code",
   "execution_count": 92,
   "metadata": {},
   "outputs": [
    {
     "data": {
      "text/plain": [
       "(0.023935650000000006, 0.02208876724044373)"
      ]
     },
     "execution_count": 92,
     "metadata": {},
     "output_type": "execute_result"
    }
   ],
   "source": [
    "Mag.mean(), Mag.std()"
   ]
  },
  {
   "cell_type": "code",
   "execution_count": 91,
   "metadata": {},
   "outputs": [
    {
     "data": {
      "text/plain": [
       "0.00035937727087500003"
      ]
     },
     "execution_count": 91,
     "metadata": {},
     "output_type": "execute_result"
    }
   ],
   "source": [
    "X.mean()"
   ]
  },
  {
   "cell_type": "code",
   "execution_count": null,
   "metadata": {},
   "outputs": [],
   "source": []
  }
 ],
 "metadata": {
  "kernelspec": {
   "display_name": "Python 3.8.10 64-bit",
   "language": "python",
   "name": "python3"
  },
  "language_info": {
   "codemirror_mode": {
    "name": "ipython",
    "version": 3
   },
   "file_extension": ".py",
   "mimetype": "text/x-python",
   "name": "python",
   "nbconvert_exporter": "python",
   "pygments_lexer": "ipython3",
   "version": "3.8.10"
  },
  "orig_nbformat": 4,
  "vscode": {
   "interpreter": {
    "hash": "31f2aee4e71d21fbe5cf8b01ff0e069b9275f58929596ceb00d14d90e3e16cd6"
   }
  }
 },
 "nbformat": 4,
 "nbformat_minor": 2
}
