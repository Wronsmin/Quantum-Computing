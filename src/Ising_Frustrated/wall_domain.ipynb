{
 "cells": [
  {
   "cell_type": "code",
   "execution_count": 1,
   "metadata": {},
   "outputs": [],
   "source": [
    "import sys\n",
    "import numpy as np\n",
    "import pandas as pd\n",
    "sys.path.append('../../lib/')\n",
    "import matplotlib.pyplot as plt\n",
    "from frustration_graph import *\n",
    "from frustration_traditional import * "
   ]
  },
  {
   "cell_type": "code",
   "execution_count": 2,
   "metadata": {},
   "outputs": [],
   "source": [
    "from dwave.system import DWaveSampler, EmbeddingComposite\n",
    "import dimod\n",
    "import dwave.inspector"
   ]
  },
  {
   "attachments": {},
   "cell_type": "markdown",
   "metadata": {},
   "source": [
    "## Wall CPU"
   ]
  },
  {
   "cell_type": "code",
   "execution_count": 3,
   "metadata": {},
   "outputs": [],
   "source": [
    "L = 40\n",
    "N = 100\n",
    "ratios = np.linspace(0, 1, N)\n",
    "Ts = np.linspace(0.1, 3.5, N)\n",
    "err = 10\n",
    "\n",
    "try:\n",
    "    res = pd.read_csv(f\"../../Results/Ising_Frustrated/Classical/res_wall_{L}_{N}x{N}_{err}err.gzip\", compression='gzip')\n",
    "except:\n",
    "    res = transition(L, Ts, ratios, err_runs=err, workers=12)\n",
    "    res.to_csv(f\"../../Results/Ising_Frustrated/Classical/res_wall_{L}_{N}x{N}_{err}err.gzip\", compression='gzip', index=False)"
   ]
  },
  {
   "cell_type": "code",
   "execution_count": 4,
   "metadata": {},
   "outputs": [
    {
     "data": {
      "text/html": [
       "<div>\n",
       "<style scoped>\n",
       "    .dataframe tbody tr th:only-of-type {\n",
       "        vertical-align: middle;\n",
       "    }\n",
       "\n",
       "    .dataframe tbody tr th {\n",
       "        vertical-align: top;\n",
       "    }\n",
       "\n",
       "    .dataframe thead th {\n",
       "        text-align: right;\n",
       "    }\n",
       "</style>\n",
       "<table border=\"1\" class=\"dataframe\">\n",
       "  <thead>\n",
       "    <tr style=\"text-align: right;\">\n",
       "      <th></th>\n",
       "      <th>T</th>\n",
       "      <th>ratio</th>\n",
       "      <th>M</th>\n",
       "      <th>M_std</th>\n",
       "      <th>X</th>\n",
       "      <th>X_std</th>\n",
       "      <th>U</th>\n",
       "      <th>W</th>\n",
       "    </tr>\n",
       "  </thead>\n",
       "  <tbody>\n",
       "    <tr>\n",
       "      <th>0</th>\n",
       "      <td>0.1</td>\n",
       "      <td>0.000000</td>\n",
       "      <td>1.000000</td>\n",
       "      <td>0.000000</td>\n",
       "      <td>0.000000</td>\n",
       "      <td>0.000000</td>\n",
       "      <td>0.666667</td>\n",
       "      <td>0.0000</td>\n",
       "    </tr>\n",
       "    <tr>\n",
       "      <th>1</th>\n",
       "      <td>0.1</td>\n",
       "      <td>0.010101</td>\n",
       "      <td>1.000000</td>\n",
       "      <td>0.000000</td>\n",
       "      <td>0.000000</td>\n",
       "      <td>0.000000</td>\n",
       "      <td>0.666667</td>\n",
       "      <td>0.0000</td>\n",
       "    </tr>\n",
       "    <tr>\n",
       "      <th>2</th>\n",
       "      <td>0.1</td>\n",
       "      <td>0.020202</td>\n",
       "      <td>1.000000</td>\n",
       "      <td>0.000000</td>\n",
       "      <td>0.000000</td>\n",
       "      <td>0.000000</td>\n",
       "      <td>0.666667</td>\n",
       "      <td>0.0000</td>\n",
       "    </tr>\n",
       "    <tr>\n",
       "      <th>3</th>\n",
       "      <td>0.1</td>\n",
       "      <td>0.030303</td>\n",
       "      <td>1.000000</td>\n",
       "      <td>0.000000</td>\n",
       "      <td>0.000000</td>\n",
       "      <td>0.000000</td>\n",
       "      <td>0.666667</td>\n",
       "      <td>0.0000</td>\n",
       "    </tr>\n",
       "    <tr>\n",
       "      <th>4</th>\n",
       "      <td>0.1</td>\n",
       "      <td>0.040404</td>\n",
       "      <td>1.000000</td>\n",
       "      <td>0.000000</td>\n",
       "      <td>0.000000</td>\n",
       "      <td>0.000000</td>\n",
       "      <td>0.666667</td>\n",
       "      <td>0.0000</td>\n",
       "    </tr>\n",
       "    <tr>\n",
       "      <th>...</th>\n",
       "      <td>...</td>\n",
       "      <td>...</td>\n",
       "      <td>...</td>\n",
       "      <td>...</td>\n",
       "      <td>...</td>\n",
       "      <td>...</td>\n",
       "      <td>...</td>\n",
       "      <td>...</td>\n",
       "    </tr>\n",
       "    <tr>\n",
       "      <th>9995</th>\n",
       "      <td>3.5</td>\n",
       "      <td>0.959596</td>\n",
       "      <td>0.016931</td>\n",
       "      <td>0.000245</td>\n",
       "      <td>0.074790</td>\n",
       "      <td>0.003227</td>\n",
       "      <td>-0.004350</td>\n",
       "      <td>1429.7825</td>\n",
       "    </tr>\n",
       "    <tr>\n",
       "      <th>9996</th>\n",
       "      <td>3.5</td>\n",
       "      <td>0.969697</td>\n",
       "      <td>0.016900</td>\n",
       "      <td>0.000286</td>\n",
       "      <td>0.075764</td>\n",
       "      <td>0.002914</td>\n",
       "      <td>-0.007742</td>\n",
       "      <td>1432.0039</td>\n",
       "    </tr>\n",
       "    <tr>\n",
       "      <th>9997</th>\n",
       "      <td>3.5</td>\n",
       "      <td>0.979798</td>\n",
       "      <td>0.016710</td>\n",
       "      <td>0.000295</td>\n",
       "      <td>0.073578</td>\n",
       "      <td>0.002670</td>\n",
       "      <td>-0.007932</td>\n",
       "      <td>1435.1274</td>\n",
       "    </tr>\n",
       "    <tr>\n",
       "      <th>9998</th>\n",
       "      <td>3.5</td>\n",
       "      <td>0.989899</td>\n",
       "      <td>0.016773</td>\n",
       "      <td>0.000397</td>\n",
       "      <td>0.073446</td>\n",
       "      <td>0.003369</td>\n",
       "      <td>-0.008413</td>\n",
       "      <td>1436.9060</td>\n",
       "    </tr>\n",
       "    <tr>\n",
       "      <th>9999</th>\n",
       "      <td>3.5</td>\n",
       "      <td>1.000000</td>\n",
       "      <td>0.016665</td>\n",
       "      <td>0.000329</td>\n",
       "      <td>0.071980</td>\n",
       "      <td>0.002043</td>\n",
       "      <td>0.013008</td>\n",
       "      <td>1438.7005</td>\n",
       "    </tr>\n",
       "  </tbody>\n",
       "</table>\n",
       "<p>10000 rows × 8 columns</p>\n",
       "</div>"
      ],
      "text/plain": [
       "        T     ratio         M     M_std         X     X_std         U  \\\n",
       "0     0.1  0.000000  1.000000  0.000000  0.000000  0.000000  0.666667   \n",
       "1     0.1  0.010101  1.000000  0.000000  0.000000  0.000000  0.666667   \n",
       "2     0.1  0.020202  1.000000  0.000000  0.000000  0.000000  0.666667   \n",
       "3     0.1  0.030303  1.000000  0.000000  0.000000  0.000000  0.666667   \n",
       "4     0.1  0.040404  1.000000  0.000000  0.000000  0.000000  0.666667   \n",
       "...   ...       ...       ...       ...       ...       ...       ...   \n",
       "9995  3.5  0.959596  0.016931  0.000245  0.074790  0.003227 -0.004350   \n",
       "9996  3.5  0.969697  0.016900  0.000286  0.075764  0.002914 -0.007742   \n",
       "9997  3.5  0.979798  0.016710  0.000295  0.073578  0.002670 -0.007932   \n",
       "9998  3.5  0.989899  0.016773  0.000397  0.073446  0.003369 -0.008413   \n",
       "9999  3.5  1.000000  0.016665  0.000329  0.071980  0.002043  0.013008   \n",
       "\n",
       "              W  \n",
       "0        0.0000  \n",
       "1        0.0000  \n",
       "2        0.0000  \n",
       "3        0.0000  \n",
       "4        0.0000  \n",
       "...         ...  \n",
       "9995  1429.7825  \n",
       "9996  1432.0039  \n",
       "9997  1435.1274  \n",
       "9998  1436.9060  \n",
       "9999  1438.7005  \n",
       "\n",
       "[10000 rows x 8 columns]"
      ]
     },
     "execution_count": 4,
     "metadata": {},
     "output_type": "execute_result"
    }
   ],
   "source": [
    "res"
   ]
  },
  {
   "cell_type": "code",
   "execution_count": 8,
   "metadata": {},
   "outputs": [],
   "source": [
    "res, config = thermalization_config(25, 0.1, 1, 0, 1)"
   ]
  },
  {
   "cell_type": "code",
   "execution_count": 10,
   "metadata": {},
   "outputs": [
    {
     "data": {
      "text/plain": [
       "1200"
      ]
     },
     "execution_count": 10,
     "metadata": {},
     "output_type": "execute_result"
    }
   ],
   "source": [
    "wall(config)"
   ]
  },
  {
   "cell_type": "code",
   "execution_count": 9,
   "metadata": {},
   "outputs": [
    {
     "data": {
      "text/plain": [
       "<matplotlib.image.AxesImage at 0x1c8c9557ca0>"
      ]
     },
     "execution_count": 9,
     "metadata": {},
     "output_type": "execute_result"
    },
    {
     "data": {
      "image/png": "[encoded data removed]",
      "text/plain": [
       "<Figure size 640x480 with 1 Axes>"
      ]
     },
     "metadata": {},
     "output_type": "display_data"
    }
   ],
   "source": [
    "plt.imshow(config)"
   ]
  },
  {
   "cell_type": "code",
   "execution_count": 28,
   "metadata": {},
   "outputs": [
    {
     "data": {
      "text/html": [
       "<div>\n",
       "<style scoped>\n",
       "    .dataframe tbody tr th:only-of-type {\n",
       "        vertical-align: middle;\n",
       "    }\n",
       "\n",
       "    .dataframe tbody tr th {\n",
       "        vertical-align: top;\n",
       "    }\n",
       "\n",
       "    .dataframe thead th {\n",
       "        text-align: right;\n",
       "    }\n",
       "</style>\n",
       "<table border=\"1\" class=\"dataframe\">\n",
       "  <thead>\n",
       "    <tr style=\"text-align: right;\">\n",
       "      <th></th>\n",
       "      <th>Unnamed: 0</th>\n",
       "      <th>T</th>\n",
       "      <th>ratio</th>\n",
       "      <th>M</th>\n",
       "      <th>M_std</th>\n",
       "      <th>X</th>\n",
       "      <th>X_std</th>\n",
       "      <th>U</th>\n",
       "      <th>W</th>\n",
       "    </tr>\n",
       "  </thead>\n",
       "  <tbody>\n",
       "    <tr>\n",
       "      <th>0</th>\n",
       "      <td>0</td>\n",
       "      <td>0.1</td>\n",
       "      <td>0.000000</td>\n",
       "      <td>1.000000</td>\n",
       "      <td>0.000000</td>\n",
       "      <td>0.000000</td>\n",
       "      <td>0.000000e+00</td>\n",
       "      <td>0.666667</td>\n",
       "      <td>0.0000</td>\n",
       "    </tr>\n",
       "    <tr>\n",
       "      <th>1</th>\n",
       "      <td>1</td>\n",
       "      <td>0.1</td>\n",
       "      <td>0.010101</td>\n",
       "      <td>1.000000</td>\n",
       "      <td>0.000000</td>\n",
       "      <td>0.000000</td>\n",
       "      <td>0.000000e+00</td>\n",
       "      <td>0.666667</td>\n",
       "      <td>0.0000</td>\n",
       "    </tr>\n",
       "    <tr>\n",
       "      <th>2</th>\n",
       "      <td>2</td>\n",
       "      <td>0.1</td>\n",
       "      <td>0.020202</td>\n",
       "      <td>1.000000</td>\n",
       "      <td>0.000000</td>\n",
       "      <td>0.000000</td>\n",
       "      <td>0.000000e+00</td>\n",
       "      <td>0.666667</td>\n",
       "      <td>0.0000</td>\n",
       "    </tr>\n",
       "    <tr>\n",
       "      <th>3</th>\n",
       "      <td>3</td>\n",
       "      <td>0.1</td>\n",
       "      <td>0.030303</td>\n",
       "      <td>0.716923</td>\n",
       "      <td>0.000000</td>\n",
       "      <td>0.012876</td>\n",
       "      <td>1.734723e-18</td>\n",
       "      <td>0.666662</td>\n",
       "      <td>56.0000</td>\n",
       "    </tr>\n",
       "    <tr>\n",
       "      <th>4</th>\n",
       "      <td>4</td>\n",
       "      <td>0.1</td>\n",
       "      <td>0.040404</td>\n",
       "      <td>0.043077</td>\n",
       "      <td>0.000000</td>\n",
       "      <td>0.028781</td>\n",
       "      <td>0.000000e+00</td>\n",
       "      <td>0.663495</td>\n",
       "      <td>56.0000</td>\n",
       "    </tr>\n",
       "    <tr>\n",
       "      <th>...</th>\n",
       "      <td>...</td>\n",
       "      <td>...</td>\n",
       "      <td>...</td>\n",
       "      <td>...</td>\n",
       "      <td>...</td>\n",
       "      <td>...</td>\n",
       "      <td>...</td>\n",
       "      <td>...</td>\n",
       "      <td>...</td>\n",
       "    </tr>\n",
       "    <tr>\n",
       "      <th>9995</th>\n",
       "      <td>9995</td>\n",
       "      <td>3.5</td>\n",
       "      <td>0.959596</td>\n",
       "      <td>0.026352</td>\n",
       "      <td>0.000444</td>\n",
       "      <td>0.077130</td>\n",
       "      <td>4.379820e-03</td>\n",
       "      <td>0.007826</td>\n",
       "      <td>604.2144</td>\n",
       "    </tr>\n",
       "    <tr>\n",
       "      <th>9996</th>\n",
       "      <td>9996</td>\n",
       "      <td>3.5</td>\n",
       "      <td>0.969697</td>\n",
       "      <td>0.025581</td>\n",
       "      <td>0.000624</td>\n",
       "      <td>0.073903</td>\n",
       "      <td>2.921973e-03</td>\n",
       "      <td>-0.023233</td>\n",
       "      <td>604.9871</td>\n",
       "    </tr>\n",
       "    <tr>\n",
       "      <th>9997</th>\n",
       "      <td>9997</td>\n",
       "      <td>3.5</td>\n",
       "      <td>0.979798</td>\n",
       "      <td>0.025401</td>\n",
       "      <td>0.000383</td>\n",
       "      <td>0.071273</td>\n",
       "      <td>2.511679e-03</td>\n",
       "      <td>0.009990</td>\n",
       "      <td>606.0500</td>\n",
       "    </tr>\n",
       "    <tr>\n",
       "      <th>9998</th>\n",
       "      <td>9998</td>\n",
       "      <td>3.5</td>\n",
       "      <td>0.989899</td>\n",
       "      <td>0.025586</td>\n",
       "      <td>0.000471</td>\n",
       "      <td>0.071797</td>\n",
       "      <td>2.138907e-03</td>\n",
       "      <td>-0.010265</td>\n",
       "      <td>606.7968</td>\n",
       "    </tr>\n",
       "    <tr>\n",
       "      <th>9999</th>\n",
       "      <td>9999</td>\n",
       "      <td>3.5</td>\n",
       "      <td>1.000000</td>\n",
       "      <td>0.025290</td>\n",
       "      <td>0.000377</td>\n",
       "      <td>0.069404</td>\n",
       "      <td>2.098415e-03</td>\n",
       "      <td>0.029829</td>\n",
       "      <td>607.9433</td>\n",
       "    </tr>\n",
       "  </tbody>\n",
       "</table>\n",
       "<p>10000 rows × 9 columns</p>\n",
       "</div>"
      ],
      "text/plain": [
       "      Unnamed: 0    T     ratio         M     M_std         X         X_std  \\\n",
       "0              0  0.1  0.000000  1.000000  0.000000  0.000000  0.000000e+00   \n",
       "1              1  0.1  0.010101  1.000000  0.000000  0.000000  0.000000e+00   \n",
       "2              2  0.1  0.020202  1.000000  0.000000  0.000000  0.000000e+00   \n",
       "3              3  0.1  0.030303  0.716923  0.000000  0.012876  1.734723e-18   \n",
       "4              4  0.1  0.040404  0.043077  0.000000  0.028781  0.000000e+00   \n",
       "...          ...  ...       ...       ...       ...       ...           ...   \n",
       "9995        9995  3.5  0.959596  0.026352  0.000444  0.077130  4.379820e-03   \n",
       "9996        9996  3.5  0.969697  0.025581  0.000624  0.073903  2.921973e-03   \n",
       "9997        9997  3.5  0.979798  0.025401  0.000383  0.071273  2.511679e-03   \n",
       "9998        9998  3.5  0.989899  0.025586  0.000471  0.071797  2.138907e-03   \n",
       "9999        9999  3.5  1.000000  0.025290  0.000377  0.069404  2.098415e-03   \n",
       "\n",
       "             U         W  \n",
       "0     0.666667    0.0000  \n",
       "1     0.666667    0.0000  \n",
       "2     0.666667    0.0000  \n",
       "3     0.666662   56.0000  \n",
       "4     0.663495   56.0000  \n",
       "...        ...       ...  \n",
       "9995  0.007826  604.2144  \n",
       "9996 -0.023233  604.9871  \n",
       "9997  0.009990  606.0500  \n",
       "9998 -0.010265  606.7968  \n",
       "9999  0.029829  607.9433  \n",
       "\n",
       "[10000 rows x 9 columns]"
      ]
     },
     "execution_count": 28,
     "metadata": {},
     "output_type": "execute_result"
    }
   ],
   "source": [
    "res"
   ]
  },
  {
   "cell_type": "code",
   "execution_count": 30,
   "metadata": {},
   "outputs": [
    {
     "data": {
      "text/plain": [
       "(100,)"
      ]
     },
     "execution_count": 30,
     "metadata": {},
     "output_type": "execute_result"
    }
   ],
   "source": [
    "Ts.shape"
   ]
  },
  {
   "cell_type": "code",
   "execution_count": 5,
   "metadata": {},
   "outputs": [],
   "source": [
    "W_matrix = np.zeros((N, N))\n",
    "\n",
    "Ts = res[\"T\"].unique()\n",
    "\n",
    "\n",
    "for i, T in enumerate(Ts):\n",
    "    W_matrix[i, :] = res[res['T'] == T]['W']"
   ]
  },
  {
   "cell_type": "code",
   "execution_count": 6,
   "metadata": {},
   "outputs": [
    {
     "data": {
      "text/plain": [
       "<matplotlib.image.AxesImage at 0x1e4bd4a0d00>"
      ]
     },
     "execution_count": 6,
     "metadata": {},
     "output_type": "execute_result"
    },
    {
     "data": {
      "image/png": "[encoded data removed]",
      "text/plain": [
       "<Figure size 640x480 with 1 Axes>"
      ]
     },
     "metadata": {},
     "output_type": "display_data"
    }
   ],
   "source": [
    "plt.imshow(W_matrix[::-1, :], extent=[0,1,0,3.5], aspect='auto', cmap='inferno')"
   ]
  }
 ],
 "metadata": {
  "kernelspec": {
   "display_name": "Python 3",
   "language": "python",
   "name": "python3"
  },
  "language_info": {
   "codemirror_mode": {
    "name": "ipython",
    "version": 3
   },
   "file_extension": ".py",
   "mimetype": "text/x-python",
   "name": "python",
   "nbconvert_exporter": "python",
   "pygments_lexer": "ipython3",
   "version": "3.10.7"
  },
  "orig_nbformat": 4,
  "vscode": {
   "interpreter": {
    "hash": "d043bfe52fdbcdd9ce254683947552669d52a2490379de95516b9980b91447e7"
   }
  }
 },
 "nbformat": 4,
 "nbformat_minor": 2
}
