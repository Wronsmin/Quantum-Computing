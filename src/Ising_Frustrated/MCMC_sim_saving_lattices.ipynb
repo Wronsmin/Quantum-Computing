{
 "cells": [
  {
   "cell_type": "code",
   "execution_count": 1,
   "metadata": {},
   "outputs": [],
   "source": [
    "import sys\n",
    "import numpy as np\n",
    "import pandas as pd\n",
    "\n",
    "sys.path.append('../../lib/')\n",
    "\n",
    "import matplotlib.pyplot as plt\n",
    "from frustration_traditional_lattices import *"
   ]
  },
  {
   "cell_type": "code",
   "execution_count": null,
   "metadata": {},
   "outputs": [],
   "source": [
    "L = 40\n",
    "N = 100\n",
    "err = 10\n",
    "ratios = np.linspace(0, 1, N)\n",
    "Ts = np.linspace(0.1, 3.5, N)\n",
    "\n",
    "transition(L, Ts, ratios, err_runs=err, workers=12)"
   ]
  }
 ],
 "metadata": {
  "kernelspec": {
   "display_name": "Python 3",
   "language": "python",
   "name": "python3"
  },
  "language_info": {
   "codemirror_mode": {
    "name": "ipython",
    "version": 3
   },
   "file_extension": ".py",
   "mimetype": "text/x-python",
   "name": "python",
   "nbconvert_exporter": "python",
   "pygments_lexer": "ipython3",
   "version": "3.10.7"
  },
  "orig_nbformat": 4,
  "vscode": {
   "interpreter": {
    "hash": "d043bfe52fdbcdd9ce254683947552669d52a2490379de95516b9980b91447e7"
   }
  }
 },
 "nbformat": 4,
 "nbformat_minor": 2
}
